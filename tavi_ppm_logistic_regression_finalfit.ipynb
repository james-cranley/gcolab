{
  "nbformat": 4,
  "nbformat_minor": 0,
  "metadata": {
    "colab": {
      "name": "tavi_ppm_logistic_regression_finalfit.ipynb",
      "provenance": [],
      "collapsed_sections": [],
      "toc_visible": true,
      "mount_file_id": "1tZz4TuB8PAZZCsn2Lpf3vl6ZDGxFr-bb",
      "authorship_tag": "ABX9TyNpbluKCx6f+QJjo75ajTTR",
      "include_colab_link": true
    },
    "kernelspec": {
      "display_name": "Python 3",
      "name": "python3"
    }
  },
  "cells": [
    {
      "cell_type": "markdown",
      "metadata": {
        "id": "view-in-github",
        "colab_type": "text"
      },
      "source": [
        "<a href=\"https://colab.research.google.com/github/james-cranley/gcolab/blob/main/tavi_ppm_logistic_regression_finalfit.ipynb\" target=\"_parent\"><img src=\"https://colab.research.google.com/assets/colab-badge.svg\" alt=\"Open In Colab\"/></a>"
      ]
    },
    {
      "cell_type": "markdown",
      "metadata": {
        "id": "azJ9NTmoPA9A"
      },
      "source": [
        "# Useful Resources\n",
        "\n",
        "Chapter 9 R4HDS (LR modelling) https://argoshare.is.ed.ac.uk/healthyr_book/chap09-h1.html\n",
        "\n",
        "Code for evaluating LR models https://raw.githubusercontent.com/easonfg/cali_tutorial\n",
        "\n",
        "LinkedIn Learning Video on modelling https://www.linkedin.com/learning/healthcare-analytics-regression-in-r/overview-of-modeling-process?u=2963594\n"
      ]
    },
    {
      "cell_type": "markdown",
      "metadata": {
        "id": "zHDoIUEjCRr1"
      },
      "source": [
        "# Prepare environment and load packages"
      ]
    },
    {
      "cell_type": "code",
      "metadata": {
        "colab": {
          "base_uri": "https://localhost:8080/"
        },
        "id": "M75qCRDFST73",
        "outputId": "1c0bd9be-4754-4fbf-f9a9-a456ecd13305"
      },
      "source": [
        "# Prepare R in Python\n",
        "%load_ext rpy2.ipython"
      ],
      "execution_count": 25,
      "outputs": [
        {
          "output_type": "stream",
          "text": [
            "The rpy2.ipython extension is already loaded. To reload it, use:\n",
            "  %reload_ext rpy2.ipython\n"
          ],
          "name": "stdout"
        }
      ]
    },
    {
      "cell_type": "code",
      "metadata": {
        "id": "D1-Wwmx4JaBJ",
        "colab": {
          "base_uri": "https://localhost:8080/"
        },
        "outputId": "dee75954-84cc-4bb5-8d62-0faaec4be166"
      },
      "source": [
        "# Set WD\n",
        "\n",
        "%%R\n",
        "\n",
        "wd <- '/content/gdrive/MyDrive/Colab Notebooks/tavi_ppm'\n",
        "setwd(wd)"
      ],
      "execution_count": 26,
      "outputs": [
        {
          "output_type": "stream",
          "text": [
            "R[write to console]: Error in setwd(wd) : cannot change working directory\n",
            "Calls: <Anonymous> -> <Anonymous> -> withVisible -> setwd\n",
            "\n"
          ],
          "name": "stderr"
        },
        {
          "output_type": "stream",
          "text": [
            "\n",
            "Error in setwd(wd) : cannot change working directory\n",
            "Calls: <Anonymous> -> <Anonymous> -> withVisible -> setwd\n"
          ],
          "name": "stdout"
        }
      ]
    },
    {
      "cell_type": "code",
      "metadata": {
        "colab": {
          "base_uri": "https://localhost:8080/"
        },
        "id": "AXqMsuJuVCDl",
        "outputId": "6ff18385-bdd9-412e-95dc-0d799cf4d18a"
      },
      "source": [
        "# Install packages (this takes a few minutes, wait for the 'green tick' above)\n",
        "%%R\n",
        "install.packages('finalfit')\n",
        "install.packages('googlesheets4')\n",
        "install.packages('kableExtra')"
      ],
      "execution_count": 27,
      "outputs": [
        {
          "output_type": "stream",
          "text": [
            "R[write to console]: Installing package into ‘/usr/local/lib/R/site-library’\n",
            "(as ‘lib’ is unspecified)\n",
            "\n",
            "R[write to console]: trying URL 'https://cran.rstudio.com/src/contrib/finalfit_1.0.2.tar.gz'\n",
            "\n",
            "R[write to console]: Content type 'application/x-gzip'\n",
            "R[write to console]:  length 2678470 bytes (2.6 MB)\n",
            "\n",
            "R[write to console]: =\n",
            "R[write to console]: =\n",
            "R[write to console]: =\n",
            "R[write to console]: =\n",
            "R[write to console]: =\n",
            "R[write to console]: =\n",
            "R[write to console]: =\n",
            "R[write to console]: =\n",
            "R[write to console]: =\n",
            "R[write to console]: =\n",
            "R[write to console]: =\n",
            "R[write to console]: =\n",
            "R[write to console]: =\n",
            "R[write to console]: =\n",
            "R[write to console]: =\n",
            "R[write to console]: =\n",
            "R[write to console]: =\n",
            "R[write to console]: =\n",
            "R[write to console]: =\n",
            "R[write to console]: =\n",
            "R[write to console]: =\n",
            "R[write to console]: =\n",
            "R[write to console]: =\n",
            "R[write to console]: =\n",
            "R[write to console]: =\n",
            "R[write to console]: =\n",
            "R[write to console]: =\n",
            "R[write to console]: =\n",
            "R[write to console]: =\n",
            "R[write to console]: =\n",
            "R[write to console]: =\n",
            "R[write to console]: =\n",
            "R[write to console]: =\n",
            "R[write to console]: =\n",
            "R[write to console]: =\n",
            "R[write to console]: =\n",
            "R[write to console]: =\n",
            "R[write to console]: =\n",
            "R[write to console]: =\n",
            "R[write to console]: =\n",
            "R[write to console]: =\n",
            "R[write to console]: =\n",
            "R[write to console]: =\n",
            "R[write to console]: =\n",
            "R[write to console]: =\n",
            "R[write to console]: =\n",
            "R[write to console]: =\n",
            "R[write to console]: =\n",
            "R[write to console]: =\n",
            "R[write to console]: =\n",
            "R[write to console]: \n",
            "\n",
            "R[write to console]: downloaded 2.6 MB\n",
            "\n",
            "\n",
            "R[write to console]: \n",
            "\n",
            "R[write to console]: \n",
            "R[write to console]: The downloaded source packages are in\n",
            "\t‘/tmp/RtmpR6zl5Q/downloaded_packages’\n",
            "R[write to console]: \n",
            "R[write to console]: \n",
            "\n",
            "R[write to console]: Installing package into ‘/usr/local/lib/R/site-library’\n",
            "(as ‘lib’ is unspecified)\n",
            "\n",
            "R[write to console]: trying URL 'https://cran.rstudio.com/src/contrib/broom_0.7.4.tar.gz'\n",
            "\n",
            "R[write to console]: Content type 'application/x-gzip'\n",
            "R[write to console]:  length 629713 bytes (614 KB)\n",
            "\n",
            "R[write to console]: =\n",
            "R[write to console]: =\n",
            "R[write to console]: =\n",
            "R[write to console]: =\n",
            "R[write to console]: =\n",
            "R[write to console]: =\n",
            "R[write to console]: =\n",
            "R[write to console]: =\n",
            "R[write to console]: =\n",
            "R[write to console]: =\n",
            "R[write to console]: =\n",
            "R[write to console]: =\n",
            "R[write to console]: =\n",
            "R[write to console]: =\n",
            "R[write to console]: =\n",
            "R[write to console]: =\n",
            "R[write to console]: =\n",
            "R[write to console]: =\n",
            "R[write to console]: =\n",
            "R[write to console]: =\n",
            "R[write to console]: =\n",
            "R[write to console]: =\n",
            "R[write to console]: =\n",
            "R[write to console]: =\n",
            "R[write to console]: =\n",
            "R[write to console]: =\n",
            "R[write to console]: =\n",
            "R[write to console]: =\n",
            "R[write to console]: =\n",
            "R[write to console]: =\n",
            "R[write to console]: =\n",
            "R[write to console]: =\n",
            "R[write to console]: =\n",
            "R[write to console]: =\n",
            "R[write to console]: =\n",
            "R[write to console]: =\n",
            "R[write to console]: =\n",
            "R[write to console]: =\n",
            "R[write to console]: =\n",
            "R[write to console]: =\n",
            "R[write to console]: =\n",
            "R[write to console]: =\n",
            "R[write to console]: =\n",
            "R[write to console]: =\n",
            "R[write to console]: =\n",
            "R[write to console]: =\n",
            "R[write to console]: =\n",
            "R[write to console]: =\n",
            "R[write to console]: =\n",
            "R[write to console]: =\n",
            "R[write to console]: \n",
            "\n",
            "R[write to console]: downloaded 614 KB\n",
            "\n",
            "\n",
            "R[write to console]: \n",
            "\n",
            "R[write to console]: \n",
            "R[write to console]: The downloaded source packages are in\n",
            "\t‘/tmp/RtmpR6zl5Q/downloaded_packages’\n",
            "R[write to console]: \n",
            "R[write to console]: \n",
            "\n",
            "R[write to console]: Installing package into ‘/usr/local/lib/R/site-library’\n",
            "(as ‘lib’ is unspecified)\n",
            "\n",
            "R[write to console]: trying URL 'https://cran.rstudio.com/src/contrib/googlesheets4_0.2.0.tar.gz'\n",
            "\n",
            "R[write to console]: Content type 'application/x-gzip'\n",
            "R[write to console]:  length 417617 bytes (407 KB)\n",
            "\n",
            "R[write to console]: =\n",
            "R[write to console]: =\n",
            "R[write to console]: =\n",
            "R[write to console]: =\n",
            "R[write to console]: =\n",
            "R[write to console]: =\n",
            "R[write to console]: =\n",
            "R[write to console]: =\n",
            "R[write to console]: =\n",
            "R[write to console]: =\n",
            "R[write to console]: =\n",
            "R[write to console]: =\n",
            "R[write to console]: =\n",
            "R[write to console]: =\n",
            "R[write to console]: =\n",
            "R[write to console]: =\n",
            "R[write to console]: =\n",
            "R[write to console]: =\n",
            "R[write to console]: =\n",
            "R[write to console]: =\n",
            "R[write to console]: =\n",
            "R[write to console]: =\n",
            "R[write to console]: =\n",
            "R[write to console]: =\n",
            "R[write to console]: =\n",
            "R[write to console]: =\n",
            "R[write to console]: =\n",
            "R[write to console]: =\n",
            "R[write to console]: =\n",
            "R[write to console]: =\n",
            "R[write to console]: =\n",
            "R[write to console]: =\n",
            "R[write to console]: =\n",
            "R[write to console]: =\n",
            "R[write to console]: =\n",
            "R[write to console]: =\n",
            "R[write to console]: =\n",
            "R[write to console]: =\n",
            "R[write to console]: =\n",
            "R[write to console]: =\n",
            "R[write to console]: =\n",
            "R[write to console]: =\n",
            "R[write to console]: =\n",
            "R[write to console]: =\n",
            "R[write to console]: =\n",
            "R[write to console]: =\n",
            "R[write to console]: =\n",
            "R[write to console]: =\n",
            "R[write to console]: =\n",
            "R[write to console]: =\n",
            "R[write to console]: \n",
            "\n",
            "R[write to console]: downloaded 407 KB\n",
            "\n",
            "\n",
            "R[write to console]: \n",
            "\n",
            "R[write to console]: \n",
            "R[write to console]: The downloaded source packages are in\n",
            "\t‘/tmp/RtmpR6zl5Q/downloaded_packages’\n",
            "R[write to console]: \n",
            "R[write to console]: \n",
            "\n",
            "R[write to console]: Installing package into ‘/usr/local/lib/R/site-library’\n",
            "(as ‘lib’ is unspecified)\n",
            "\n",
            "R[write to console]: trying URL 'https://cran.rstudio.com/src/contrib/kableExtra_1.3.1.tar.gz'\n",
            "\n",
            "R[write to console]: Content type 'application/x-gzip'\n",
            "R[write to console]:  length 1651519 bytes (1.6 MB)\n",
            "\n",
            "R[write to console]: =\n",
            "R[write to console]: =\n",
            "R[write to console]: =\n",
            "R[write to console]: =\n",
            "R[write to console]: =\n",
            "R[write to console]: =\n",
            "R[write to console]: =\n",
            "R[write to console]: =\n",
            "R[write to console]: =\n",
            "R[write to console]: =\n",
            "R[write to console]: =\n",
            "R[write to console]: =\n",
            "R[write to console]: =\n",
            "R[write to console]: =\n",
            "R[write to console]: =\n",
            "R[write to console]: =\n",
            "R[write to console]: =\n",
            "R[write to console]: =\n",
            "R[write to console]: =\n",
            "R[write to console]: =\n",
            "R[write to console]: =\n",
            "R[write to console]: =\n",
            "R[write to console]: =\n",
            "R[write to console]: =\n",
            "R[write to console]: =\n",
            "R[write to console]: =\n",
            "R[write to console]: =\n",
            "R[write to console]: =\n",
            "R[write to console]: =\n",
            "R[write to console]: =\n",
            "R[write to console]: =\n",
            "R[write to console]: =\n",
            "R[write to console]: =\n",
            "R[write to console]: =\n",
            "R[write to console]: =\n",
            "R[write to console]: =\n",
            "R[write to console]: =\n",
            "R[write to console]: =\n",
            "R[write to console]: =\n",
            "R[write to console]: =\n",
            "R[write to console]: =\n",
            "R[write to console]: =\n",
            "R[write to console]: =\n",
            "R[write to console]: =\n",
            "R[write to console]: =\n",
            "R[write to console]: =\n",
            "R[write to console]: =\n",
            "R[write to console]: =\n",
            "R[write to console]: =\n",
            "R[write to console]: =\n",
            "R[write to console]: \n",
            "\n",
            "R[write to console]: downloaded 1.6 MB\n",
            "\n",
            "\n",
            "R[write to console]: \n",
            "\n",
            "R[write to console]: \n",
            "R[write to console]: The downloaded source packages are in\n",
            "\t‘/tmp/RtmpR6zl5Q/downloaded_packages’\n",
            "R[write to console]: \n",
            "R[write to console]: \n",
            "\n"
          ],
          "name": "stderr"
        }
      ]
    },
    {
      "cell_type": "code",
      "metadata": {
        "id": "UlNL8-KzTJ7n"
      },
      "source": [
        "# Load packages\n",
        "%%R\n",
        "\n",
        "library(tidyverse)\n",
        "library(finalfit)\n",
        "library(googlesheets4)\n",
        "library(kableExtra)"
      ],
      "execution_count": 38,
      "outputs": []
    },
    {
      "cell_type": "markdown",
      "metadata": {
        "id": "fSBiNJvCCYsZ"
      },
      "source": [
        "# Load in data from google sheet"
      ]
    },
    {
      "cell_type": "code",
      "metadata": {
        "colab": {
          "base_uri": "https://localhost:8080/"
        },
        "id": "6Lp6E7AxSe-3",
        "outputId": "55a295c4-a3c3-4f4a-c58c-f343b9e758fd"
      },
      "source": [
        "# Load in data from google sheet\n",
        "%%R\n",
        "\n",
        "# Load in data using from the .csv version of the TAVI data\n",
        "gs4_deauth()\n",
        "df <- read_sheet(\"https://docs.google.com/spreadsheets/d/15J2PadknsXwGa33B237BYornN6bZ9u1dWJdIrZUtMOA/edit#gid=916763304\")\n",
        "glimpse(df)"
      ],
      "execution_count": 40,
      "outputs": [
        {
          "output_type": "stream",
          "text": [
            "R[write to console]: Reading from \"tavi_for_import\"\n",
            "\n",
            "R[write to console]: Range \"tavi_for_import\"\n",
            "\n"
          ],
          "name": "stderr"
        },
        {
          "output_type": "stream",
          "text": [
            "Rows: 379\n",
            "Columns: 26\n",
            "$ age              <dbl> 82, 89, 82, 63, 90, 81, 67, 93, 83, 85, 76, 81, 90, …\n",
            "$ sex              <chr> \"F\", \"M\", \"F\", \"M\", \"M\", \"M\", \"M\", \"M\", \"M\", \"F\", \"M…\n",
            "$ pre_avb          <dbl> NA, NA, 0, NA, NA, 0, 0, 1, 1, 0, 0, 1, NA, NA, 1, 0…\n",
            "$ pre_avb_type     <dbl> NA, NA, 0, NA, NA, 0, 0, 1, 1, 0, 0, 1, NA, NA, 1, 0…\n",
            "$ pre_rhythm       <chr> \"AF\", \"AF\", NA, \"AF\", \"AF\", NA, NA, NA, NA, NA, NA, …\n",
            "$ pre_pr           <dbl> NA, NA, 168, NA, NA, 198, 182, 288, 240, 120, 178, 2…\n",
            "$ pre_qrsd         <dbl> 128, 88, 88, 100, 82, 98, 116, 158, 92, 80, 86, 92, …\n",
            "$ pre_qrsmorph     <chr> \"LBBB\", \"normal\", \"normal\", \"normal\", \"normal\", \"nor…\n",
            "$ intra_valve_type <chr> \"Edwards New\", \"Edwards New\", \"Edwards New\", \"Edward…\n",
            "$ intra_valve_size <dbl> 26, 23, 23, 26, 26, 29, 26, 29, 34, 29, 26, 26, 23, …\n",
            "$ intra_viv        <dbl> 0, 0, 0, 0, 0, 0, 0, 0, 0, 0, 0, 0, 0, 0, 0, 0, 0, 0…\n",
            "$ intra_avb        <dbl> 0, 0, 0, 0, 0, 0, 0, 0, 1, 0, 0, 1, 0, 0, 0, 0, 0, 0…\n",
            "$ intra_lbbb       <dbl> 0, 0, 0, 0, 0, 0, 0, 0, 1, 0, 0, 1, 0, 0, 0, 0, 0, 0…\n",
            "$ intra_avb1       <dbl> 0, 0, 0, 0, 0, 0, 0, 0, 0, 0, 0, 0, 0, 0, 0, 0, 0, 0…\n",
            "$ intra_avb2       <dbl> 0, 0, 0, 0, 0, 0, 0, 0, 0, 0, 0, 0, 0, 0, 0, 0, 0, 0…\n",
            "$ intra_avb3       <dbl> 0, 0, 0, 0, 0, 0, 0, 0, 0, 0, 0, 0, 0, 0, 0, 0, 0, 0…\n",
            "$ intra_tpw        <dbl> 0, 0, 0, 0, 0, 0, 0, 1, 1, 0, 0, 0, 0, 0, 0, 0, 0, 1…\n",
            "$ post_monitoring  <dbl> 2, 2, 3, 1, 4, 2, 3, 5, 8, 8, 3, 2, 2, 2, 3, 13, 2, …\n",
            "$ post_avb         <dbl> NA, NA, 0, NA, NA, 1, 0, 0, 1, 0, 0, 1, NA, NA, 1, 0…\n",
            "$ post_avb_type    <dbl> NA, NA, 0, NA, NA, 1, 0, 0, 1, 0, 0, 1, NA, NA, 1, 0…\n",
            "$ post_rhythm      <chr> \"AF\", \"AF\", NA, \"AF\", \"AF\", NA, NA, NA, NA, NA, NA, …\n",
            "$ post_pr          <list> [NULL, NULL, 192, NULL, NULL, 236, 176, 288, 268, 1…\n",
            "$ post_qrsd        <list> [152, 96, 86, 96, 152, 122, 126, 160, 132, 90, 90, …\n",
            "$ post_qrsmorph    <chr> \"LBBB\", \"normal\", \"normal\", \"normal\", \"LBBB\", \"LBBB\"…\n",
            "$ ppm              <dbl> 0, 0, 0, 0, 0, 0, 0, 0, 1, 0, 0, 0, 0, 0, 0, 0, 0, 0…\n",
            "$ post_interval    <list> [NULL, NULL, NULL, NULL, NULL, NULL, NULL, NULL, 5,…\n"
          ],
          "name": "stdout"
        }
      ]
    },
    {
      "cell_type": "code",
      "metadata": {
        "colab": {
          "base_uri": "https://localhost:8080/"
        },
        "id": "OUlKxVZZd6ir",
        "outputId": "44360439-b6f0-474d-e91d-8617c967075d"
      },
      "source": [
        "#Clean the data\n",
        "%%R\n",
        "\n",
        "# Correct typos\n",
        "df$intra_valve_type <- gsub(\"CoreValve Evolut Pro\", \"CoreValve Evolut PRO\", df$intra_valve_type)\n",
        "df$intra_valve_type <- gsub(\"CoreValve Evolute Pro\", \"CoreValve Evolut PRO\", df$intra_valve_type)\n",
        "df$post_qrsmorph <- gsub(\"Normal\", \"\", df$post_qrsmorph)\n",
        "df$post_qrsmorph <- gsub(\"normal\", \"\", df$post_qrsmorph)\n",
        "\n",
        "# Make variables into factors\n",
        "fact_cols <- c(\"sex\", \"pre_avb\", \"pre_avb_type\", \"pre_rhythm\", \"pre_qrsmorph\", \"intra_valve_type\", \"intra_valve_size\", \"intra_viv\", \"intra_avb\", \"intra_lbbb\", \"intra_avb1\", \"intra_avb2\", \"intra_avb3\", \"intra_tpw\", \"post_avb\", \"post_avb_type\", \"post_rhythm\", \"post_qrsmorph\", \"ppm\")\n",
        "df[fact_cols] <- lapply(df[fact_cols], as.factor)\n",
        "\n",
        "# Make variables into numerics\n",
        "num_cols <- c(\"post_pr\", \"post_qrsd\", \"post_interval\")\n",
        "df[num_cols] <- lapply(df[num_cols], as.numeric)\n",
        "\n",
        "# Make Edwards Old the reference for valve type\n",
        "df <- within(df, intra_valve_type <- relevel(intra_valve_type, ref = \"Edwards Old\"))\n",
        "\n",
        "glimpse(df)"
      ],
      "execution_count": 41,
      "outputs": [
        {
          "output_type": "stream",
          "text": [
            "R[write to console]: Error in lapply(df[num_cols], as.numeric) : \n",
            "  'list' object cannot be coerced to type 'double'\n",
            "Calls: <Anonymous> -> <Anonymous> -> withVisible -> lapply\n",
            "\n"
          ],
          "name": "stderr"
        },
        {
          "output_type": "stream",
          "text": [
            "\n",
            "Error in lapply(df[num_cols], as.numeric) : \n",
            "  'list' object cannot be coerced to type 'double'\n",
            "Calls: <Anonymous> -> <Anonymous> -> withVisible -> lapply\n"
          ],
          "name": "stdout"
        }
      ]
    },
    {
      "cell_type": "code",
      "metadata": {
        "id": "bmMrByM8ZJJh",
        "colab": {
          "base_uri": "https://localhost:8080/"
        },
        "outputId": "76ec4638-8a6c-4c2d-8a9c-349dbcb241c7"
      },
      "source": [
        "# Use FinalFit package to start making models\n",
        "\n",
        "# Start with a model using only pre_tavi factors\n",
        "%%R\n",
        "\n",
        "dependent <- \"ppm\"\n",
        "explanatory_pre <- c(\"age\", \"sex\", \"pre_avb\", \"pre_pr\", \"pre_qrsd\")\n",
        "pre <- df %>% finalfit(dependent, explanatory_pre, metrics = TRUE)\n",
        "pre"
      ],
      "execution_count": 44,
      "outputs": [
        {
          "output_type": "stream",
          "text": [
            "R[write to console]: Waiting for profiling to be done...\n",
            "\n",
            "R[write to console]: Waiting for profiling to be done...\n",
            "\n",
            "R[write to console]: Waiting for profiling to be done...\n",
            "\n",
            "R[write to console]: Waiting for profiling to be done...\n",
            "\n",
            "R[write to console]: Waiting for profiling to be done...\n",
            "\n",
            "R[write to console]: Waiting for profiling to be done...\n",
            "\n",
            "R[write to console]: Setting levels: control = 0, case = 1\n",
            "\n",
            "R[write to console]: Setting direction: controls < cases\n",
            "\n"
          ],
          "name": "stderr"
        },
        {
          "output_type": "stream",
          "text": [
            "[[1]]\n",
            " Dependent: ppm                      0            1           OR (univariable)\n",
            "            age Mean (SD)   81.4 (7.5)   83.0 (6.9)  1.03 (0.98-1.09, p=0.226)\n",
            "            sex         F   150 (89.8)    17 (10.2)                          -\n",
            "                        M   195 (92.0)     17 (8.0)  0.77 (0.38-1.57, p=0.466)\n",
            "        pre_avb         0   183 (94.8)     10 (5.2)                          -\n",
            "                        1    67 (79.8)    17 (20.2) 4.64 (2.06-11.00, p<0.001)\n",
            "         pre_pr Mean (SD) 185.3 (34.7) 220.8 (46.3)  1.02 (1.01-1.03, p<0.001)\n",
            "       pre_qrsd Mean (SD) 107.6 (21.5) 120.1 (25.9)  1.02 (1.01-1.04, p=0.002)\n",
            "        OR (multivariable)\n",
            " 1.00 (0.95-1.07, p=0.888)\n",
            "                         -\n",
            " 0.51 (0.19-1.33, p=0.172)\n",
            "                         -\n",
            " 1.33 (0.34-4.99, p=0.677)\n",
            " 1.02 (1.00-1.04, p=0.017)\n",
            " 1.02 (1.00-1.04, p=0.066)\n",
            "\n",
            "[[2]]\n",
            "                                                                                                                                  \n",
            " Number in dataframe = 379, Number in model = 277, Missing = 102, AIC = 164.6, C-statistic = 0.782, H&L = Chi-sq(8) 4.50 (p=0.809)\n",
            "\n"
          ],
          "name": "stdout"
        }
      ]
    },
    {
      "cell_type": "code",
      "metadata": {
        "colab": {
          "base_uri": "https://localhost:8080/"
        },
        "id": "8fPFK-Nji96j",
        "outputId": "ab486b48-4495-4083-ae45-9932f56ce320"
      },
      "source": [
        "# Now a model using intra-tavi factors\n",
        "%%R\n",
        "\n",
        "dependent <- \"ppm\"\n",
        "explanatory_intra <- c(\"intra_valve_type\", \"intra_valve_size\", \"intra_avb\", \"intra_lbbb\", \"intra_avb1\", \"intra_avb2\", \"intra_avb3\", \"intra_tpw\")\n",
        "intra <- df %>% finalfit(dependent, explanatory_intra, metrics = TRUE)\n",
        "intra"
      ],
      "execution_count": 45,
      "outputs": [
        {
          "output_type": "stream",
          "text": [
            "R[write to console]: Waiting for profiling to be done...\n",
            "\n",
            "R[write to console]: Waiting for profiling to be done...\n",
            "\n",
            "R[write to console]: Waiting for profiling to be done...\n",
            "\n",
            "R[write to console]: Waiting for profiling to be done...\n",
            "\n",
            "R[write to console]: Waiting for profiling to be done...\n",
            "\n",
            "R[write to console]: Waiting for profiling to be done...\n",
            "\n",
            "R[write to console]: Waiting for profiling to be done...\n",
            "\n",
            "R[write to console]: Waiting for profiling to be done...\n",
            "\n",
            "R[write to console]: Waiting for profiling to be done...\n",
            "\n",
            "R[write to console]: Setting levels: control = 0, case = 1\n",
            "\n",
            "R[write to console]: Setting direction: controls < cases\n",
            "\n"
          ],
          "name": "stderr"
        },
        {
          "output_type": "stream",
          "text": [
            "[[1]]\n",
            "   Dependent: ppm                               0         1\n",
            " intra_valve_type CoreValve Evolut PRO  50 (83.3) 10 (16.7)\n",
            "                           Edwards New  63 (95.5)   3 (4.5)\n",
            "                           Edwards Old 232 (91.7)  21 (8.3)\n",
            " intra_valve_size                   20  11 (91.7)   1 (8.3)\n",
            "                                    23 106 (89.1) 13 (10.9)\n",
            "                                    26 152 (93.3)  11 (6.7)\n",
            "                                    29  71 (89.9)  8 (10.1)\n",
            "                                    34   5 (83.3)  1 (16.7)\n",
            "        intra_avb                    0 311 (96.6)  11 (3.4)\n",
            "                                     1  34 (59.6) 23 (40.4)\n",
            "       intra_lbbb                    0 323 (92.8)  25 (7.2)\n",
            "                                     1  22 (71.0)  9 (29.0)\n",
            "       intra_avb1                    0 335 (92.0)  29 (8.0)\n",
            "                                     1  10 (66.7)  5 (33.3)\n",
            "       intra_avb2                    0 343 (91.2)  33 (8.8)\n",
            "                                     1   2 (66.7)  1 (33.3)\n",
            "       intra_avb3                    0 339 (94.2)  21 (5.8)\n",
            "                                     1   6 (31.6) 13 (68.4)\n",
            "        intra_tpw                    0 290 (98.0)   6 (2.0)\n",
            "                                     1  55 (66.3) 28 (33.7)\n",
            "              OR (univariable)          OR (multivariable)\n",
            "                             -                           -\n",
            "     0.24 (0.05-0.83, p=0.036)   0.40 (0.06-2.36, p=0.333)\n",
            "     0.45 (0.20-1.06, p=0.056)   0.85 (0.27-2.90, p=0.784)\n",
            "                             -                           -\n",
            "    1.35 (0.23-25.66, p=0.783)  1.12 (0.07-49.82, p=0.949)\n",
            "    0.80 (0.13-15.21, p=0.834)  0.66 (0.04-29.24, p=0.814)\n",
            "    1.24 (0.20-24.14, p=0.847)  0.69 (0.04-32.91, p=0.838)\n",
            "    2.20 (0.08-63.85, p=0.602)  0.80 (0.01-69.86, p=0.917)\n",
            "                             -                           -\n",
            "   19.13 (8.78-44.09, p<0.001)  2.65 (0.24-24.92, p=0.406)\n",
            "                             -                           -\n",
            "    5.29 (2.12-12.44, p<0.001)   1.38 (0.24-9.70, p=0.727)\n",
            "                             -                           -\n",
            "    5.78 (1.71-17.45, p=0.003)   0.94 (0.14-6.51, p=0.949)\n",
            "                             -                           -\n",
            "    5.20 (0.24-55.66, p=0.183)  1.46 (0.04-37.18, p=0.815)\n",
            "                             -                           -\n",
            " 34.98 (12.55-108.53, p<0.001)  6.91 (0.72-85.90, p=0.110)\n",
            "                             -                           -\n",
            "  24.61 (10.37-68.33, p<0.001) 10.04 (3.46-31.59, p<0.001)\n",
            "\n",
            "[[2]]\n",
            "                                                                                                                                \n",
            " Number in dataframe = 379, Number in model = 379, Missing = 0, AIC = 165.7, C-statistic = 0.893, H&L = Chi-sq(8) 7.89 (p=0.445)\n",
            "\n"
          ],
          "name": "stdout"
        }
      ]
    },
    {
      "cell_type": "code",
      "metadata": {
        "colab": {
          "base_uri": "https://localhost:8080/"
        },
        "id": "NItmngvrjGZX",
        "outputId": "e0580491-a516-42af-ccfe-0e51cec3bbb9"
      },
      "source": [
        "# Now a model using post-tavi factors\n",
        "%%R\n",
        "\n",
        "dependent <- \"ppm\"\n",
        "explanatory_post <- c(\"post_avb\")\n",
        "post <- df %>% finalfit(dependent, explanatory_post, metrics = TRUE)\n",
        "post"
      ],
      "execution_count": 46,
      "outputs": [
        {
          "output_type": "stream",
          "text": [
            "R[write to console]: Waiting for profiling to be done...\n",
            "\n",
            "R[write to console]: Waiting for profiling to be done...\n",
            "\n",
            "R[write to console]: Setting levels: control = 0, case = 1\n",
            "\n",
            "R[write to console]: Setting direction: controls < cases\n",
            "\n"
          ],
          "name": "stderr"
        },
        {
          "output_type": "stream",
          "text": [
            "[[1]]\n",
            " Dependent: ppm            0         1            OR (univariable)\n",
            "       post_avb 0 154 (98.1)   3 (1.9)                           -\n",
            "                1  97 (82.2) 21 (17.8) 11.11 (3.71-47.94, p<0.001)\n",
            "          OR (multivariable)\n",
            "                           -\n",
            " 11.11 (3.71-47.94, p<0.001)\n",
            "\n",
            "[[2]]\n",
            "                                                                                                                                  \n",
            " Number in dataframe = 379, Number in model = 275, Missing = 104, AIC = 144.2, C-statistic = 0.744, H&L = Chi-sq(8) 0.00 (p=1.000)\n",
            "\n"
          ],
          "name": "stdout"
        }
      ]
    },
    {
      "cell_type": "code",
      "metadata": {
        "colab": {
          "base_uri": "https://localhost:8080/"
        },
        "id": "cMowWk6mjJt-",
        "outputId": "40e7b301-10e8-41b5-abe5-279dd62aadf8"
      },
      "source": [
        "# Now a model using all the factors\n",
        "%%R\n",
        "\n",
        "dependent <- \"ppm\"\n",
        "explanatory_all <- c(explanatory_pre, explanatory_intra, explanatory_post)\n",
        "df %>% finalfit(dependent, explanatory_all, metrics = TRUE)"
      ],
      "execution_count": 47,
      "outputs": [
        {
          "output_type": "stream",
          "text": [
            "R[write to console]: Waiting for profiling to be done...\n",
            "\n",
            "R[write to console]: Waiting for profiling to be done...\n",
            "\n",
            "R[write to console]: Waiting for profiling to be done...\n",
            "\n",
            "R[write to console]: Waiting for profiling to be done...\n",
            "\n",
            "R[write to console]: Waiting for profiling to be done...\n",
            "\n",
            "R[write to console]: Waiting for profiling to be done...\n",
            "\n",
            "R[write to console]: Waiting for profiling to be done...\n",
            "\n",
            "R[write to console]: Waiting for profiling to be done...\n",
            "\n",
            "R[write to console]: Waiting for profiling to be done...\n",
            "\n",
            "R[write to console]: Waiting for profiling to be done...\n",
            "\n",
            "R[write to console]: Waiting for profiling to be done...\n",
            "\n",
            "R[write to console]: Waiting for profiling to be done...\n",
            "\n",
            "R[write to console]: Waiting for profiling to be done...\n",
            "\n",
            "R[write to console]: Waiting for profiling to be done...\n",
            "\n",
            "R[write to console]: Waiting for profiling to be done...\n",
            "\n",
            "R[write to console]: Setting levels: control = 0, case = 1\n",
            "\n",
            "R[write to console]: Setting direction: controls < cases\n",
            "\n"
          ],
          "name": "stderr"
        },
        {
          "output_type": "stream",
          "text": [
            "[[1]]\n",
            "   Dependent: ppm                                 0            1\n",
            "              age            Mean (SD)   81.4 (7.5)   83.0 (6.9)\n",
            "              sex                    F   150 (89.8)    17 (10.2)\n",
            "                                     M   195 (92.0)     17 (8.0)\n",
            "          pre_avb                    0   183 (94.8)     10 (5.2)\n",
            "                                     1    67 (79.8)    17 (20.2)\n",
            "           pre_pr            Mean (SD) 185.3 (34.7) 220.8 (46.3)\n",
            "         pre_qrsd            Mean (SD) 107.6 (21.5) 120.1 (25.9)\n",
            " intra_valve_type CoreValve Evolut PRO    50 (83.3)    10 (16.7)\n",
            "                           Edwards New    63 (95.5)      3 (4.5)\n",
            "                           Edwards Old   232 (91.7)     21 (8.3)\n",
            " intra_valve_size                   20    11 (91.7)      1 (8.3)\n",
            "                                    23   106 (89.1)    13 (10.9)\n",
            "                                    26   152 (93.3)     11 (6.7)\n",
            "                                    29    71 (89.9)     8 (10.1)\n",
            "                                    34     5 (83.3)     1 (16.7)\n",
            "        intra_avb                    0   311 (96.6)     11 (3.4)\n",
            "                                     1    34 (59.6)    23 (40.4)\n",
            "       intra_lbbb                    0   323 (92.8)     25 (7.2)\n",
            "                                     1    22 (71.0)     9 (29.0)\n",
            "       intra_avb1                    0   335 (92.0)     29 (8.0)\n",
            "                                     1    10 (66.7)     5 (33.3)\n",
            "       intra_avb2                    0   343 (91.2)     33 (8.8)\n",
            "                                     1     2 (66.7)     1 (33.3)\n",
            "       intra_avb3                    0   339 (94.2)     21 (5.8)\n",
            "                                     1     6 (31.6)    13 (68.4)\n",
            "        intra_tpw                    0   290 (98.0)      6 (2.0)\n",
            "                                     1    55 (66.3)    28 (33.7)\n",
            "         post_avb                    0   154 (98.1)      3 (1.9)\n",
            "                                     1    97 (82.2)    21 (17.8)\n",
            "              OR (univariable)            OR (multivariable)\n",
            "     1.03 (0.98-1.09, p=0.226)     1.00 (0.91-1.11, p=0.994)\n",
            "                             -                             -\n",
            "     0.77 (0.38-1.57, p=0.466)     0.48 (0.09-2.43, p=0.373)\n",
            "                             -                             -\n",
            "    4.64 (2.06-11.00, p<0.001)    1.92 (0.27-15.71, p=0.525)\n",
            "     1.02 (1.01-1.03, p<0.001)     1.02 (0.99-1.05, p=0.143)\n",
            "     1.02 (1.01-1.04, p=0.002)     1.02 (0.99-1.04, p=0.280)\n",
            "                             -                             -\n",
            "     0.24 (0.05-0.83, p=0.036)     0.15 (0.01-1.34, p=0.110)\n",
            "     0.45 (0.20-1.06, p=0.056)     0.14 (0.02-0.74, p=0.026)\n",
            "                             -                             -\n",
            "    1.35 (0.23-25.66, p=0.783) 5124251.97 (0.00-NA, p=0.994)\n",
            "    0.80 (0.13-15.21, p=0.834) 2475177.66 (0.00-NA, p=0.994)\n",
            "    1.24 (0.20-24.14, p=0.847) 3747290.79 (0.00-NA, p=0.994)\n",
            "    2.20 (0.08-63.85, p=0.602) 4776478.16 (0.00-NA, p=0.994)\n",
            "                             -                             -\n",
            "   19.13 (8.78-44.09, p<0.001)    1.16 (0.04-25.09, p=0.927)\n",
            "                             -                             -\n",
            "    5.29 (2.12-12.44, p<0.001)    2.50 (0.24-34.50, p=0.457)\n",
            "                             -                             -\n",
            "    5.78 (1.71-17.45, p=0.003)    1.23 (0.08-20.76, p=0.880)\n",
            "                             -                             -\n",
            "    5.20 (0.24-55.66, p=0.183)   1.94 (0.03-158.29, p=0.756)\n",
            "                             -                             -\n",
            " 34.98 (12.55-108.53, p<0.001)   6.28 (0.25-210.81, p=0.272)\n",
            "                             -                             -\n",
            "  24.61 (10.37-68.33, p<0.001)    4.83 (1.05-24.50, p=0.046)\n",
            "                             -                             -\n",
            "   11.11 (3.71-47.94, p<0.001)    3.97 (0.76-27.58, p=0.122)\n",
            "\n",
            "[[2]]\n",
            "                                                                                                                                  \n",
            " Number in dataframe = 379, Number in model = 268, Missing = 111, AIC = 118.7, C-statistic = 0.93, H&L = Chi-sq(8) 12.28 (p=0.139)\n",
            "\n"
          ],
          "name": "stdout"
        }
      ]
    },
    {
      "cell_type": "code",
      "metadata": {
        "colab": {
          "base_uri": "https://localhost:8080/"
        },
        "id": "dIyAWPxijs-B",
        "outputId": "8b8d048b-bb16-438c-8708-125109f1a6e7"
      },
      "source": [
        "# Now reduce variables iteratively to improve AIC and c statistic\n",
        "%%R\n",
        "\n",
        "dependent <- \"ppm\"\n",
        "explanatory_all <- c(\"post_avb\", \"intra_valve_type\", \"intra_valve_size\", \"intra_avb\", \"intra_lbbb\", \"intra_avb1\", \"intra_avb2\", \"intra_avb3\", \"intra_tpw\", \"age\", \"sex\", \"pre_avb\", \"pre_pr\", \"pre_qrsd\")\n",
        "explanatory_multi <- c(\"post_avb\", \"intra_valve_type\", \"intra_avb\", \"intra_lbbb\", \"intra_avb1\", \"intra_avb2\", \"intra_avb3\", \"intra_tpw\", \"pre_avb\", \"pre_pr\", \"pre_qrsd\")\n",
        "table1 <- df %>% finalfit(dependent, explanatory_all, explanatory_multi, metrics = TRUE)\n",
        "kbl(table1)"
      ],
      "execution_count": 35,
      "outputs": [
        {
          "output_type": "stream",
          "text": [
            "R[write to console]: Error in finalfit(., dependent, explanatory_all, explanatory_multi, metrics = TRUE) : \n",
            "  .data is not dataframe\n",
            "Calls: <Anonymous> -> <Anonymous> -> withVisible -> %>% -> finalfit\n",
            "\n"
          ],
          "name": "stderr"
        },
        {
          "output_type": "stream",
          "text": [
            "\n",
            "Error in finalfit(., dependent, explanatory_all, explanatory_multi, metrics = TRUE) : \n",
            "  .data is not dataframe\n",
            "Calls: <Anonymous> -> <Anonymous> -> withVisible -> %>% -> finalfit\n"
          ],
          "name": "stdout"
        }
      ]
    }
  ]
}