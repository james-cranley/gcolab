{
  "nbformat": 4,
  "nbformat_minor": 0,
  "metadata": {
    "colab": {
      "name": "tavi_ppm_logistic_regression.ipynb",
      "provenance": [],
      "collapsed_sections": [],
      "toc_visible": true,
      "mount_file_id": "1C8pw8IgdgImZobtXTVGLA7K0WPY6a4YB",
      "authorship_tag": "ABX9TyOr4s/zqvNwRSmBWSYEFZfo",
      "include_colab_link": true
    },
    "kernelspec": {
      "name": "python3",
      "display_name": "Python 3"
    }
  },
  "cells": [
    {
      "cell_type": "markdown",
      "metadata": {
        "id": "view-in-github",
        "colab_type": "text"
      },
      "source": [
        "<a href=\"https://colab.research.google.com/github/james-cranley/gcolab/blob/main/tavi_ppm_logistic_regression.ipynb\" target=\"_parent\"><img src=\"https://colab.research.google.com/assets/colab-badge.svg\" alt=\"Open In Colab\"/></a>"
      ]
    },
    {
      "cell_type": "markdown",
      "metadata": {
        "id": "azJ9NTmoPA9A"
      },
      "source": [
        "# Useful Resources\n",
        "\n",
        "Chapter 9 R4HDS (LR modelling) https://argoshare.is.ed.ac.uk/healthyr_book/chap09-h1.html\n",
        "\n",
        "Code for evaluating LR models https://raw.githubusercontent.com/easonfg/cali_tutorial\n",
        "\n",
        "LinkedIn Learning Video on modelling https://www.linkedin.com/learning/healthcare-analytics-regression-in-r/overview-of-modeling-process?u=2963594\n"
      ]
    },
    {
      "cell_type": "markdown",
      "metadata": {
        "id": "zHDoIUEjCRr1"
      },
      "source": [
        "# Prepare environment and load packages"
      ]
    },
    {
      "cell_type": "code",
      "metadata": {
        "colab": {
          "base_uri": "https://localhost:8080/"
        },
        "id": "dRqtT4cmTkTq",
        "outputId": "c45a0aa4-9009-445f-c596-879c0b5ce37e"
      },
      "source": [
        "# Mount the drive\n",
        "\n",
        "from google.colab import drive\n",
        "drive.mount('/content/gdrive')\n",
        "\n",
        "# Will need the auth code"
      ],
      "execution_count": 2,
      "outputs": [
        {
          "output_type": "stream",
          "text": [
            "Drive already mounted at /content/gdrive; to attempt to forcibly remount, call drive.mount(\"/content/gdrive\", force_remount=True).\n"
          ],
          "name": "stdout"
        }
      ]
    },
    {
      "cell_type": "code",
      "metadata": {
        "colab": {
          "base_uri": "https://localhost:8080/"
        },
        "id": "M75qCRDFST73",
        "outputId": "bc477dbd-3b0e-4e03-eee4-c3c4c16a81de"
      },
      "source": [
        "# Prepare R in Python\n",
        "%load_ext rpy2.ipython"
      ],
      "execution_count": 3,
      "outputs": [
        {
          "output_type": "stream",
          "text": [
            "/usr/local/lib/python3.6/dist-packages/rpy2/robjects/pandas2ri.py:14: FutureWarning: pandas.core.index is deprecated and will be removed in a future version.  The public classes are available in the top-level namespace.\n",
            "  from pandas.core.index import Index as PandasIndex\n",
            "/usr/local/lib/python3.6/dist-packages/rpy2/robjects/pandas2ri.py:34: UserWarning: pandas >= 1.0 is not supported.\n",
            "  warnings.warn('pandas >= 1.0 is not supported.')\n"
          ],
          "name": "stderr"
        }
      ]
    },
    {
      "cell_type": "code",
      "metadata": {
        "id": "D1-Wwmx4JaBJ"
      },
      "source": [
        "# Set WD\n",
        "\n",
        "%%R\n",
        "\n",
        "wd <- '/content/gdrive/MyDrive/Colab Notebooks/tavi_ppm'\n",
        "setwd(wd)"
      ],
      "execution_count": 7,
      "outputs": []
    },
    {
      "cell_type": "code",
      "metadata": {
        "id": "AXqMsuJuVCDl",
        "colab": {
          "base_uri": "https://localhost:8080/"
        },
        "outputId": "0a6456a1-f3f2-41e8-d3f0-0f892ad314b9"
      },
      "source": [
        "# Install packages (this can take a few minutes)\n",
        "%%R\n",
        "\n",
        "install.packages('caret')\n",
        "install.packages('glmnet')\n",
        "install.packages('arm')\n",
        "install.packages('broom')\n",
        "install.packages('lars')\n",
        "install.packages('GGally')\n",
        "install.packages('googlesheets4')"
      ],
      "execution_count": null,
      "outputs": [
        {
          "output_type": "stream",
          "text": [
            "R[write to console]: Installing package into ‘/usr/local/lib/R/site-library’\n",
            "(as ‘lib’ is unspecified)\n",
            "\n",
            "R[write to console]: also installing the dependencies ‘numDeriv’, ‘SQUAREM’, ‘lava’, ‘prodlim’, ‘iterators’, ‘data.table’, ‘gower’, ‘ipred’, ‘timeDate’, ‘foreach’, ‘plyr’, ‘ModelMetrics’, ‘reshape2’, ‘recipes’, ‘pROC’\n",
            "\n",
            "\n",
            "R[write to console]: trying URL 'https://cran.rstudio.com/src/contrib/numDeriv_2016.8-1.1.tar.gz'\n",
            "\n",
            "R[write to console]: Content type 'application/x-gzip'\n",
            "R[write to console]:  length 76053 bytes (74 KB)\n",
            "\n",
            "R[write to console]: =\n",
            "R[write to console]: =\n",
            "R[write to console]: =\n",
            "R[write to console]: =\n",
            "R[write to console]: =\n",
            "R[write to console]: =\n",
            "R[write to console]: =\n",
            "R[write to console]: =\n",
            "R[write to console]: =\n",
            "R[write to console]: =\n",
            "R[write to console]: =\n",
            "R[write to console]: =\n",
            "R[write to console]: =\n",
            "R[write to console]: =\n",
            "R[write to console]: =\n",
            "R[write to console]: =\n",
            "R[write to console]: =\n",
            "R[write to console]: =\n",
            "R[write to console]: =\n",
            "R[write to console]: =\n",
            "R[write to console]: =\n",
            "R[write to console]: =\n",
            "R[write to console]: =\n",
            "R[write to console]: =\n",
            "R[write to console]: =\n",
            "R[write to console]: =\n",
            "R[write to console]: =\n",
            "R[write to console]: =\n",
            "R[write to console]: =\n",
            "R[write to console]: =\n",
            "R[write to console]: =\n",
            "R[write to console]: =\n",
            "R[write to console]: =\n",
            "R[write to console]: =\n",
            "R[write to console]: =\n",
            "R[write to console]: =\n",
            "R[write to console]: =\n",
            "R[write to console]: =\n",
            "R[write to console]: =\n",
            "R[write to console]: =\n",
            "R[write to console]: =\n",
            "R[write to console]: =\n",
            "R[write to console]: =\n",
            "R[write to console]: =\n",
            "R[write to console]: =\n",
            "R[write to console]: =\n",
            "R[write to console]: =\n",
            "R[write to console]: =\n",
            "R[write to console]: =\n",
            "R[write to console]: =\n",
            "R[write to console]: \n",
            "\n",
            "R[write to console]: downloaded 74 KB\n",
            "\n",
            "\n",
            "R[write to console]: trying URL 'https://cran.rstudio.com/src/contrib/SQUAREM_2021.1.tar.gz'\n",
            "\n",
            "R[write to console]: Content type 'application/x-gzip'\n",
            "R[write to console]:  length 241534 bytes (235 KB)\n",
            "\n",
            "R[write to console]: =\n",
            "R[write to console]: =\n",
            "R[write to console]: =\n",
            "R[write to console]: =\n",
            "R[write to console]: =\n",
            "R[write to console]: =\n",
            "R[write to console]: =\n",
            "R[write to console]: =\n",
            "R[write to console]: =\n",
            "R[write to console]: =\n",
            "R[write to console]: =\n",
            "R[write to console]: =\n",
            "R[write to console]: =\n",
            "R[write to console]: =\n",
            "R[write to console]: =\n",
            "R[write to console]: =\n",
            "R[write to console]: =\n",
            "R[write to console]: =\n",
            "R[write to console]: =\n",
            "R[write to console]: =\n",
            "R[write to console]: =\n",
            "R[write to console]: =\n",
            "R[write to console]: =\n",
            "R[write to console]: =\n",
            "R[write to console]: =\n",
            "R[write to console]: =\n",
            "R[write to console]: =\n",
            "R[write to console]: =\n",
            "R[write to console]: =\n",
            "R[write to console]: =\n",
            "R[write to console]: =\n",
            "R[write to console]: =\n",
            "R[write to console]: =\n",
            "R[write to console]: =\n",
            "R[write to console]: =\n",
            "R[write to console]: =\n",
            "R[write to console]: =\n",
            "R[write to console]: =\n",
            "R[write to console]: =\n",
            "R[write to console]: =\n",
            "R[write to console]: =\n",
            "R[write to console]: =\n",
            "R[write to console]: =\n",
            "R[write to console]: =\n",
            "R[write to console]: =\n",
            "R[write to console]: =\n",
            "R[write to console]: =\n",
            "R[write to console]: =\n",
            "R[write to console]: =\n",
            "R[write to console]: =\n",
            "R[write to console]: \n",
            "\n",
            "R[write to console]: downloaded 235 KB\n",
            "\n",
            "\n",
            "R[write to console]: trying URL 'https://cran.rstudio.com/src/contrib/lava_1.6.8.1.tar.gz'\n",
            "\n",
            "R[write to console]: Content type 'application/x-gzip'\n",
            "R[write to console]:  length 1140975 bytes (1.1 MB)\n",
            "\n",
            "R[write to console]: =\n",
            "R[write to console]: =\n",
            "R[write to console]: =\n",
            "R[write to console]: =\n",
            "R[write to console]: =\n",
            "R[write to console]: =\n",
            "R[write to console]: =\n",
            "R[write to console]: =\n",
            "R[write to console]: =\n",
            "R[write to console]: =\n",
            "R[write to console]: =\n",
            "R[write to console]: =\n",
            "R[write to console]: =\n",
            "R[write to console]: =\n",
            "R[write to console]: =\n",
            "R[write to console]: =\n",
            "R[write to console]: =\n",
            "R[write to console]: =\n",
            "R[write to console]: =\n",
            "R[write to console]: =\n",
            "R[write to console]: =\n",
            "R[write to console]: =\n",
            "R[write to console]: =\n",
            "R[write to console]: =\n",
            "R[write to console]: =\n",
            "R[write to console]: =\n",
            "R[write to console]: =\n",
            "R[write to console]: =\n",
            "R[write to console]: =\n",
            "R[write to console]: =\n",
            "R[write to console]: =\n",
            "R[write to console]: =\n",
            "R[write to console]: =\n",
            "R[write to console]: =\n",
            "R[write to console]: =\n",
            "R[write to console]: =\n",
            "R[write to console]: =\n",
            "R[write to console]: =\n",
            "R[write to console]: =\n",
            "R[write to console]: =\n",
            "R[write to console]: =\n",
            "R[write to console]: =\n",
            "R[write to console]: =\n",
            "R[write to console]: =\n",
            "R[write to console]: =\n",
            "R[write to console]: =\n",
            "R[write to console]: =\n",
            "R[write to console]: =\n",
            "R[write to console]: =\n",
            "R[write to console]: =\n",
            "R[write to console]: \n",
            "\n",
            "R[write to console]: downloaded 1.1 MB\n",
            "\n",
            "\n",
            "R[write to console]: trying URL 'https://cran.rstudio.com/src/contrib/prodlim_2019.11.13.tar.gz'\n",
            "\n",
            "R[write to console]: Content type 'application/x-gzip'\n",
            "R[write to console]:  length 126048 bytes (123 KB)\n",
            "\n",
            "R[write to console]: =\n",
            "R[write to console]: =\n",
            "R[write to console]: =\n",
            "R[write to console]: =\n",
            "R[write to console]: =\n",
            "R[write to console]: =\n",
            "R[write to console]: =\n",
            "R[write to console]: =\n",
            "R[write to console]: =\n",
            "R[write to console]: =\n",
            "R[write to console]: =\n",
            "R[write to console]: =\n",
            "R[write to console]: =\n",
            "R[write to console]: =\n",
            "R[write to console]: =\n",
            "R[write to console]: =\n",
            "R[write to console]: =\n",
            "R[write to console]: =\n",
            "R[write to console]: =\n",
            "R[write to console]: =\n",
            "R[write to console]: =\n",
            "R[write to console]: =\n",
            "R[write to console]: =\n",
            "R[write to console]: =\n",
            "R[write to console]: =\n",
            "R[write to console]: =\n",
            "R[write to console]: =\n",
            "R[write to console]: =\n",
            "R[write to console]: =\n",
            "R[write to console]: =\n",
            "R[write to console]: =\n",
            "R[write to console]: =\n",
            "R[write to console]: =\n",
            "R[write to console]: =\n",
            "R[write to console]: =\n",
            "R[write to console]: =\n",
            "R[write to console]: =\n",
            "R[write to console]: =\n",
            "R[write to console]: =\n",
            "R[write to console]: =\n",
            "R[write to console]: =\n",
            "R[write to console]: =\n",
            "R[write to console]: =\n",
            "R[write to console]: =\n",
            "R[write to console]: =\n",
            "R[write to console]: =\n",
            "R[write to console]: =\n",
            "R[write to console]: =\n",
            "R[write to console]: =\n",
            "R[write to console]: =\n",
            "R[write to console]: \n",
            "\n",
            "R[write to console]: downloaded 123 KB\n",
            "\n",
            "\n",
            "R[write to console]: trying URL 'https://cran.rstudio.com/src/contrib/iterators_1.0.13.tar.gz'\n",
            "\n",
            "R[write to console]: Content type 'application/x-gzip'\n",
            "R[write to console]:  length 288559 bytes (281 KB)\n",
            "\n",
            "R[write to console]: =\n",
            "R[write to console]: =\n",
            "R[write to console]: =\n",
            "R[write to console]: =\n",
            "R[write to console]: =\n",
            "R[write to console]: =\n",
            "R[write to console]: =\n",
            "R[write to console]: =\n",
            "R[write to console]: =\n",
            "R[write to console]: =\n",
            "R[write to console]: =\n",
            "R[write to console]: =\n",
            "R[write to console]: =\n",
            "R[write to console]: =\n",
            "R[write to console]: =\n",
            "R[write to console]: =\n",
            "R[write to console]: =\n",
            "R[write to console]: =\n",
            "R[write to console]: =\n",
            "R[write to console]: =\n",
            "R[write to console]: =\n",
            "R[write to console]: =\n",
            "R[write to console]: =\n",
            "R[write to console]: =\n",
            "R[write to console]: =\n",
            "R[write to console]: =\n",
            "R[write to console]: =\n",
            "R[write to console]: =\n",
            "R[write to console]: =\n",
            "R[write to console]: =\n",
            "R[write to console]: =\n",
            "R[write to console]: =\n",
            "R[write to console]: =\n",
            "R[write to console]: =\n",
            "R[write to console]: =\n",
            "R[write to console]: =\n",
            "R[write to console]: =\n",
            "R[write to console]: =\n",
            "R[write to console]: =\n",
            "R[write to console]: =\n",
            "R[write to console]: =\n",
            "R[write to console]: =\n",
            "R[write to console]: =\n",
            "R[write to console]: =\n",
            "R[write to console]: =\n",
            "R[write to console]: =\n",
            "R[write to console]: =\n",
            "R[write to console]: =\n",
            "R[write to console]: =\n",
            "R[write to console]: =\n",
            "R[write to console]: \n",
            "\n",
            "R[write to console]: downloaded 281 KB\n",
            "\n",
            "\n",
            "R[write to console]: trying URL 'https://cran.rstudio.com/src/contrib/data.table_1.13.6.tar.gz'\n",
            "\n",
            "R[write to console]: Content type 'application/x-gzip'\n",
            "R[write to console]:  length 5303120 bytes (5.1 MB)\n",
            "\n",
            "R[write to console]: =\n",
            "R[write to console]: =\n",
            "R[write to console]: =\n",
            "R[write to console]: =\n",
            "R[write to console]: =\n",
            "R[write to console]: =\n",
            "R[write to console]: =\n",
            "R[write to console]: =\n",
            "R[write to console]: =\n",
            "R[write to console]: =\n",
            "R[write to console]: =\n",
            "R[write to console]: =\n",
            "R[write to console]: =\n",
            "R[write to console]: =\n",
            "R[write to console]: =\n",
            "R[write to console]: =\n",
            "R[write to console]: =\n",
            "R[write to console]: =\n",
            "R[write to console]: =\n",
            "R[write to console]: =\n",
            "R[write to console]: =\n",
            "R[write to console]: =\n",
            "R[write to console]: =\n",
            "R[write to console]: =\n",
            "R[write to console]: =\n",
            "R[write to console]: =\n",
            "R[write to console]: =\n",
            "R[write to console]: =\n",
            "R[write to console]: =\n",
            "R[write to console]: =\n",
            "R[write to console]: =\n",
            "R[write to console]: =\n",
            "R[write to console]: =\n",
            "R[write to console]: =\n",
            "R[write to console]: =\n",
            "R[write to console]: =\n",
            "R[write to console]: =\n",
            "R[write to console]: =\n",
            "R[write to console]: =\n",
            "R[write to console]: =\n",
            "R[write to console]: =\n",
            "R[write to console]: =\n",
            "R[write to console]: =\n",
            "R[write to console]: =\n",
            "R[write to console]: =\n",
            "R[write to console]: =\n",
            "R[write to console]: =\n",
            "R[write to console]: =\n",
            "R[write to console]: =\n",
            "R[write to console]: =\n",
            "R[write to console]: \n",
            "\n",
            "R[write to console]: downloaded 5.1 MB\n",
            "\n",
            "\n",
            "R[write to console]: trying URL 'https://cran.rstudio.com/src/contrib/gower_0.2.2.tar.gz'\n",
            "\n",
            "R[write to console]: Content type 'application/x-gzip'\n",
            "R[write to console]:  length 138749 bytes (135 KB)\n",
            "\n",
            "R[write to console]: =\n",
            "R[write to console]: =\n",
            "R[write to console]: =\n",
            "R[write to console]: =\n",
            "R[write to console]: =\n",
            "R[write to console]: =\n",
            "R[write to console]: =\n",
            "R[write to console]: =\n",
            "R[write to console]: =\n",
            "R[write to console]: =\n",
            "R[write to console]: =\n",
            "R[write to console]: =\n",
            "R[write to console]: =\n",
            "R[write to console]: =\n",
            "R[write to console]: =\n",
            "R[write to console]: =\n",
            "R[write to console]: =\n",
            "R[write to console]: =\n",
            "R[write to console]: =\n",
            "R[write to console]: =\n",
            "R[write to console]: =\n",
            "R[write to console]: =\n",
            "R[write to console]: =\n",
            "R[write to console]: =\n",
            "R[write to console]: =\n",
            "R[write to console]: =\n",
            "R[write to console]: =\n",
            "R[write to console]: =\n",
            "R[write to console]: =\n",
            "R[write to console]: =\n",
            "R[write to console]: =\n",
            "R[write to console]: =\n",
            "R[write to console]: =\n",
            "R[write to console]: =\n",
            "R[write to console]: =\n",
            "R[write to console]: =\n",
            "R[write to console]: =\n",
            "R[write to console]: =\n",
            "R[write to console]: =\n",
            "R[write to console]: =\n",
            "R[write to console]: =\n",
            "R[write to console]: =\n",
            "R[write to console]: =\n",
            "R[write to console]: =\n",
            "R[write to console]: =\n",
            "R[write to console]: =\n",
            "R[write to console]: =\n",
            "R[write to console]: =\n",
            "R[write to console]: =\n",
            "R[write to console]: =\n",
            "R[write to console]: \n",
            "\n",
            "R[write to console]: downloaded 135 KB\n",
            "\n",
            "\n",
            "R[write to console]: trying URL 'https://cran.rstudio.com/src/contrib/ipred_0.9-9.tar.gz'\n",
            "\n",
            "R[write to console]: Content type 'application/x-gzip'\n",
            "R[write to console]:  length 176324 bytes (172 KB)\n",
            "\n",
            "R[write to console]: =\n",
            "R[write to console]: =\n",
            "R[write to console]: =\n",
            "R[write to console]: =\n",
            "R[write to console]: =\n",
            "R[write to console]: =\n",
            "R[write to console]: =\n",
            "R[write to console]: =\n",
            "R[write to console]: =\n",
            "R[write to console]: =\n",
            "R[write to console]: =\n",
            "R[write to console]: =\n",
            "R[write to console]: =\n",
            "R[write to console]: =\n",
            "R[write to console]: =\n",
            "R[write to console]: =\n",
            "R[write to console]: =\n",
            "R[write to console]: =\n",
            "R[write to console]: =\n",
            "R[write to console]: =\n",
            "R[write to console]: =\n",
            "R[write to console]: =\n",
            "R[write to console]: =\n",
            "R[write to console]: =\n",
            "R[write to console]: =\n",
            "R[write to console]: =\n",
            "R[write to console]: =\n",
            "R[write to console]: =\n",
            "R[write to console]: =\n",
            "R[write to console]: =\n",
            "R[write to console]: =\n",
            "R[write to console]: =\n",
            "R[write to console]: =\n",
            "R[write to console]: =\n",
            "R[write to console]: =\n",
            "R[write to console]: =\n",
            "R[write to console]: =\n",
            "R[write to console]: =\n",
            "R[write to console]: =\n",
            "R[write to console]: =\n",
            "R[write to console]: =\n",
            "R[write to console]: =\n",
            "R[write to console]: =\n",
            "R[write to console]: =\n",
            "R[write to console]: =\n",
            "R[write to console]: =\n",
            "R[write to console]: =\n",
            "R[write to console]: =\n",
            "R[write to console]: =\n",
            "R[write to console]: =\n",
            "R[write to console]: \n",
            "\n",
            "R[write to console]: downloaded 172 KB\n",
            "\n",
            "\n",
            "R[write to console]: trying URL 'https://cran.rstudio.com/src/contrib/timeDate_3043.102.tar.gz'\n",
            "\n",
            "R[write to console]: Content type 'application/x-gzip'\n",
            "R[write to console]:  length 314656 bytes (307 KB)\n",
            "\n",
            "R[write to console]: =\n",
            "R[write to console]: =\n",
            "R[write to console]: =\n",
            "R[write to console]: =\n",
            "R[write to console]: =\n",
            "R[write to console]: =\n",
            "R[write to console]: =\n",
            "R[write to console]: =\n",
            "R[write to console]: =\n",
            "R[write to console]: =\n",
            "R[write to console]: =\n",
            "R[write to console]: =\n",
            "R[write to console]: =\n",
            "R[write to console]: =\n",
            "R[write to console]: =\n",
            "R[write to console]: =\n",
            "R[write to console]: =\n",
            "R[write to console]: =\n",
            "R[write to console]: =\n",
            "R[write to console]: =\n",
            "R[write to console]: =\n",
            "R[write to console]: =\n",
            "R[write to console]: =\n",
            "R[write to console]: =\n",
            "R[write to console]: =\n",
            "R[write to console]: =\n",
            "R[write to console]: =\n",
            "R[write to console]: =\n",
            "R[write to console]: =\n",
            "R[write to console]: =\n",
            "R[write to console]: =\n",
            "R[write to console]: =\n",
            "R[write to console]: =\n",
            "R[write to console]: =\n",
            "R[write to console]: =\n",
            "R[write to console]: =\n",
            "R[write to console]: =\n",
            "R[write to console]: =\n",
            "R[write to console]: =\n",
            "R[write to console]: =\n",
            "R[write to console]: =\n",
            "R[write to console]: =\n",
            "R[write to console]: =\n",
            "R[write to console]: =\n",
            "R[write to console]: =\n",
            "R[write to console]: =\n",
            "R[write to console]: =\n",
            "R[write to console]: =\n",
            "R[write to console]: =\n",
            "R[write to console]: =\n",
            "R[write to console]: \n",
            "\n",
            "R[write to console]: downloaded 307 KB\n",
            "\n",
            "\n",
            "R[write to console]: trying URL 'https://cran.rstudio.com/src/contrib/foreach_1.5.1.tar.gz'\n",
            "\n",
            "R[write to console]: Content type 'application/x-gzip'\n",
            "R[write to console]:  length 87352 bytes (85 KB)\n",
            "\n",
            "R[write to console]: =\n",
            "R[write to console]: =\n",
            "R[write to console]: =\n",
            "R[write to console]: =\n",
            "R[write to console]: =\n",
            "R[write to console]: =\n",
            "R[write to console]: =\n",
            "R[write to console]: =\n",
            "R[write to console]: =\n",
            "R[write to console]: =\n",
            "R[write to console]: =\n",
            "R[write to console]: =\n",
            "R[write to console]: =\n",
            "R[write to console]: =\n",
            "R[write to console]: =\n",
            "R[write to console]: =\n",
            "R[write to console]: =\n",
            "R[write to console]: =\n",
            "R[write to console]: =\n",
            "R[write to console]: =\n",
            "R[write to console]: =\n",
            "R[write to console]: =\n",
            "R[write to console]: =\n",
            "R[write to console]: =\n",
            "R[write to console]: =\n",
            "R[write to console]: =\n",
            "R[write to console]: =\n",
            "R[write to console]: =\n",
            "R[write to console]: =\n",
            "R[write to console]: =\n",
            "R[write to console]: =\n",
            "R[write to console]: =\n",
            "R[write to console]: =\n",
            "R[write to console]: =\n",
            "R[write to console]: =\n",
            "R[write to console]: =\n",
            "R[write to console]: =\n",
            "R[write to console]: =\n",
            "R[write to console]: =\n",
            "R[write to console]: =\n",
            "R[write to console]: =\n",
            "R[write to console]: =\n",
            "R[write to console]: =\n",
            "R[write to console]: =\n",
            "R[write to console]: =\n",
            "R[write to console]: =\n",
            "R[write to console]: =\n",
            "R[write to console]: =\n",
            "R[write to console]: =\n",
            "R[write to console]: =\n",
            "R[write to console]: \n",
            "\n",
            "R[write to console]: downloaded 85 KB\n",
            "\n",
            "\n",
            "R[write to console]: trying URL 'https://cran.rstudio.com/src/contrib/plyr_1.8.6.tar.gz'\n",
            "\n",
            "R[write to console]: Content type 'application/x-gzip'\n",
            "R[write to console]:  length 401191 bytes (391 KB)\n",
            "\n",
            "R[write to console]: =\n",
            "R[write to console]: =\n",
            "R[write to console]: =\n",
            "R[write to console]: =\n",
            "R[write to console]: =\n",
            "R[write to console]: =\n",
            "R[write to console]: =\n",
            "R[write to console]: =\n",
            "R[write to console]: =\n",
            "R[write to console]: =\n",
            "R[write to console]: =\n",
            "R[write to console]: =\n",
            "R[write to console]: =\n",
            "R[write to console]: =\n",
            "R[write to console]: =\n",
            "R[write to console]: =\n",
            "R[write to console]: =\n",
            "R[write to console]: =\n",
            "R[write to console]: =\n",
            "R[write to console]: =\n",
            "R[write to console]: =\n",
            "R[write to console]: =\n",
            "R[write to console]: =\n",
            "R[write to console]: =\n",
            "R[write to console]: =\n",
            "R[write to console]: =\n",
            "R[write to console]: =\n",
            "R[write to console]: =\n",
            "R[write to console]: =\n",
            "R[write to console]: =\n",
            "R[write to console]: =\n",
            "R[write to console]: =\n",
            "R[write to console]: =\n",
            "R[write to console]: =\n",
            "R[write to console]: =\n",
            "R[write to console]: =\n",
            "R[write to console]: =\n",
            "R[write to console]: =\n",
            "R[write to console]: =\n",
            "R[write to console]: =\n",
            "R[write to console]: =\n",
            "R[write to console]: =\n",
            "R[write to console]: =\n",
            "R[write to console]: =\n",
            "R[write to console]: =\n",
            "R[write to console]: =\n",
            "R[write to console]: =\n",
            "R[write to console]: =\n",
            "R[write to console]: =\n",
            "R[write to console]: =\n",
            "R[write to console]: \n",
            "\n",
            "R[write to console]: downloaded 391 KB\n",
            "\n",
            "\n",
            "R[write to console]: trying URL 'https://cran.rstudio.com/src/contrib/ModelMetrics_1.2.2.2.tar.gz'\n",
            "\n",
            "R[write to console]: Content type 'application/x-gzip'\n",
            "R[write to console]:  length 17078 bytes (16 KB)\n",
            "\n",
            "R[write to console]: =\n",
            "R[write to console]: =\n",
            "R[write to console]: =\n",
            "R[write to console]: =\n",
            "R[write to console]: =\n",
            "R[write to console]: =\n",
            "R[write to console]: =\n",
            "R[write to console]: =\n",
            "R[write to console]: =\n",
            "R[write to console]: =\n",
            "R[write to console]: =\n",
            "R[write to console]: =\n",
            "R[write to console]: =\n",
            "R[write to console]: =\n",
            "R[write to console]: =\n",
            "R[write to console]: =\n",
            "R[write to console]: =\n",
            "R[write to console]: =\n",
            "R[write to console]: =\n",
            "R[write to console]: =\n",
            "R[write to console]: =\n",
            "R[write to console]: =\n",
            "R[write to console]: =\n",
            "R[write to console]: =\n",
            "R[write to console]: =\n",
            "R[write to console]: =\n",
            "R[write to console]: =\n",
            "R[write to console]: =\n",
            "R[write to console]: =\n",
            "R[write to console]: =\n",
            "R[write to console]: =\n",
            "R[write to console]: =\n",
            "R[write to console]: =\n",
            "R[write to console]: =\n",
            "R[write to console]: =\n",
            "R[write to console]: =\n",
            "R[write to console]: =\n",
            "R[write to console]: =\n",
            "R[write to console]: =\n",
            "R[write to console]: =\n",
            "R[write to console]: =\n",
            "R[write to console]: =\n",
            "R[write to console]: =\n",
            "R[write to console]: =\n",
            "R[write to console]: =\n",
            "R[write to console]: =\n",
            "R[write to console]: =\n",
            "R[write to console]: =\n",
            "R[write to console]: =\n",
            "R[write to console]: =\n",
            "R[write to console]: \n",
            "\n",
            "R[write to console]: downloaded 16 KB\n",
            "\n",
            "\n",
            "R[write to console]: trying URL 'https://cran.rstudio.com/src/contrib/reshape2_1.4.4.tar.gz'\n",
            "\n",
            "R[write to console]: Content type 'application/x-gzip'\n",
            "R[write to console]:  length 37307 bytes (36 KB)\n",
            "\n",
            "R[write to console]: =\n",
            "R[write to console]: =\n",
            "R[write to console]: =\n",
            "R[write to console]: =\n",
            "R[write to console]: =\n",
            "R[write to console]: =\n",
            "R[write to console]: =\n",
            "R[write to console]: =\n",
            "R[write to console]: =\n",
            "R[write to console]: =\n",
            "R[write to console]: =\n",
            "R[write to console]: =\n",
            "R[write to console]: =\n",
            "R[write to console]: =\n",
            "R[write to console]: =\n",
            "R[write to console]: =\n",
            "R[write to console]: =\n",
            "R[write to console]: =\n",
            "R[write to console]: =\n",
            "R[write to console]: =\n",
            "R[write to console]: =\n",
            "R[write to console]: =\n",
            "R[write to console]: =\n",
            "R[write to console]: =\n",
            "R[write to console]: =\n",
            "R[write to console]: =\n",
            "R[write to console]: =\n",
            "R[write to console]: =\n",
            "R[write to console]: =\n",
            "R[write to console]: =\n",
            "R[write to console]: =\n",
            "R[write to console]: =\n",
            "R[write to console]: =\n",
            "R[write to console]: =\n",
            "R[write to console]: =\n",
            "R[write to console]: =\n",
            "R[write to console]: =\n",
            "R[write to console]: =\n",
            "R[write to console]: =\n",
            "R[write to console]: =\n",
            "R[write to console]: =\n",
            "R[write to console]: =\n",
            "R[write to console]: =\n",
            "R[write to console]: =\n",
            "R[write to console]: =\n",
            "R[write to console]: =\n",
            "R[write to console]: =\n",
            "R[write to console]: =\n",
            "R[write to console]: =\n",
            "R[write to console]: =\n",
            "R[write to console]: \n",
            "\n",
            "R[write to console]: downloaded 36 KB\n",
            "\n",
            "\n",
            "R[write to console]: trying URL 'https://cran.rstudio.com/src/contrib/recipes_0.1.15.tar.gz'\n",
            "\n",
            "R[write to console]: Content type 'application/x-gzip'\n",
            "R[write to console]:  length 646445 bytes (631 KB)\n",
            "\n",
            "R[write to console]: =\n",
            "R[write to console]: =\n",
            "R[write to console]: =\n",
            "R[write to console]: =\n",
            "R[write to console]: =\n",
            "R[write to console]: =\n",
            "R[write to console]: =\n",
            "R[write to console]: =\n",
            "R[write to console]: =\n",
            "R[write to console]: =\n",
            "R[write to console]: =\n",
            "R[write to console]: =\n",
            "R[write to console]: =\n",
            "R[write to console]: =\n",
            "R[write to console]: =\n",
            "R[write to console]: =\n",
            "R[write to console]: =\n",
            "R[write to console]: =\n",
            "R[write to console]: =\n",
            "R[write to console]: =\n",
            "R[write to console]: =\n",
            "R[write to console]: =\n",
            "R[write to console]: =\n",
            "R[write to console]: =\n",
            "R[write to console]: =\n",
            "R[write to console]: =\n",
            "R[write to console]: =\n",
            "R[write to console]: =\n",
            "R[write to console]: =\n",
            "R[write to console]: =\n",
            "R[write to console]: =\n",
            "R[write to console]: =\n",
            "R[write to console]: =\n",
            "R[write to console]: =\n",
            "R[write to console]: =\n",
            "R[write to console]: =\n",
            "R[write to console]: =\n",
            "R[write to console]: =\n",
            "R[write to console]: =\n",
            "R[write to console]: =\n",
            "R[write to console]: =\n",
            "R[write to console]: =\n",
            "R[write to console]: =\n",
            "R[write to console]: =\n",
            "R[write to console]: =\n",
            "R[write to console]: =\n",
            "R[write to console]: =\n",
            "R[write to console]: =\n",
            "R[write to console]: =\n",
            "R[write to console]: =\n",
            "R[write to console]: \n",
            "\n",
            "R[write to console]: downloaded 631 KB\n",
            "\n",
            "\n",
            "R[write to console]: trying URL 'https://cran.rstudio.com/src/contrib/pROC_1.17.0.1.tar.gz'\n",
            "\n",
            "R[write to console]: Content type 'application/x-gzip'\n",
            "R[write to console]:  length 685415 bytes (669 KB)\n",
            "\n",
            "R[write to console]: =\n",
            "R[write to console]: =\n",
            "R[write to console]: =\n",
            "R[write to console]: =\n",
            "R[write to console]: =\n",
            "R[write to console]: =\n",
            "R[write to console]: =\n",
            "R[write to console]: =\n",
            "R[write to console]: =\n",
            "R[write to console]: =\n",
            "R[write to console]: =\n",
            "R[write to console]: =\n",
            "R[write to console]: =\n",
            "R[write to console]: =\n",
            "R[write to console]: =\n",
            "R[write to console]: =\n",
            "R[write to console]: =\n",
            "R[write to console]: =\n",
            "R[write to console]: =\n",
            "R[write to console]: =\n",
            "R[write to console]: =\n",
            "R[write to console]: =\n",
            "R[write to console]: =\n",
            "R[write to console]: =\n",
            "R[write to console]: =\n",
            "R[write to console]: =\n",
            "R[write to console]: =\n",
            "R[write to console]: =\n",
            "R[write to console]: =\n",
            "R[write to console]: =\n",
            "R[write to console]: =\n",
            "R[write to console]: =\n",
            "R[write to console]: =\n",
            "R[write to console]: =\n",
            "R[write to console]: =\n",
            "R[write to console]: =\n",
            "R[write to console]: =\n",
            "R[write to console]: =\n",
            "R[write to console]: =\n",
            "R[write to console]: =\n",
            "R[write to console]: =\n",
            "R[write to console]: =\n",
            "R[write to console]: =\n",
            "R[write to console]: =\n",
            "R[write to console]: =\n",
            "R[write to console]: =\n",
            "R[write to console]: =\n",
            "R[write to console]: =\n",
            "R[write to console]: =\n",
            "R[write to console]: =\n",
            "R[write to console]: \n",
            "\n",
            "R[write to console]: downloaded 669 KB\n",
            "\n",
            "\n",
            "R[write to console]: trying URL 'https://cran.rstudio.com/src/contrib/caret_6.0-86.tar.gz'\n",
            "\n",
            "R[write to console]: Content type 'application/x-gzip'\n",
            "R[write to console]:  length 5264447 bytes (5.0 MB)\n",
            "\n",
            "R[write to console]: =\n",
            "R[write to console]: =\n",
            "R[write to console]: =\n",
            "R[write to console]: =\n",
            "R[write to console]: =\n",
            "R[write to console]: =\n",
            "R[write to console]: =\n",
            "R[write to console]: =\n",
            "R[write to console]: =\n",
            "R[write to console]: =\n",
            "R[write to console]: =\n",
            "R[write to console]: =\n",
            "R[write to console]: =\n",
            "R[write to console]: =\n",
            "R[write to console]: =\n",
            "R[write to console]: =\n",
            "R[write to console]: =\n",
            "R[write to console]: =\n",
            "R[write to console]: =\n",
            "R[write to console]: =\n",
            "R[write to console]: =\n",
            "R[write to console]: =\n",
            "R[write to console]: =\n",
            "R[write to console]: =\n",
            "R[write to console]: =\n",
            "R[write to console]: =\n",
            "R[write to console]: =\n",
            "R[write to console]: =\n",
            "R[write to console]: =\n",
            "R[write to console]: =\n",
            "R[write to console]: =\n",
            "R[write to console]: =\n",
            "R[write to console]: =\n",
            "R[write to console]: =\n",
            "R[write to console]: =\n",
            "R[write to console]: =\n",
            "R[write to console]: =\n",
            "R[write to console]: =\n",
            "R[write to console]: =\n",
            "R[write to console]: =\n",
            "R[write to console]: =\n",
            "R[write to console]: =\n",
            "R[write to console]: =\n",
            "R[write to console]: =\n",
            "R[write to console]: =\n",
            "R[write to console]: =\n",
            "R[write to console]: =\n",
            "R[write to console]: =\n",
            "R[write to console]: =\n",
            "R[write to console]: =\n",
            "R[write to console]: \n",
            "\n",
            "R[write to console]: downloaded 5.0 MB\n",
            "\n",
            "\n"
          ],
          "name": "stderr"
        }
      ]
    },
    {
      "cell_type": "code",
      "metadata": {
        "colab": {
          "base_uri": "https://localhost:8080/"
        },
        "id": "UlNL8-KzTJ7n",
        "outputId": "253900d1-695e-48f7-c3d5-67fa33165ade"
      },
      "source": [
        "# Load packages\n",
        "%%R\n",
        "\n",
        "library(glmnet)\n",
        "library(tidyverse)\n",
        "library(caret)\n",
        "library(arm)\n",
        "library(broom)\n",
        "library(lars)\n",
        "library(GGally)\n",
        "library(googlesheets4)"
      ],
      "execution_count": 8,
      "outputs": [
        {
          "output_type": "stream",
          "text": [
            "R[write to console]: Error in library(glmnet) : there is no package called ‘glmnet’\n",
            "Calls: <Anonymous> -> <Anonymous> -> withVisible -> library\n",
            "\n"
          ],
          "name": "stderr"
        },
        {
          "output_type": "stream",
          "text": [
            "\n",
            "Error in library(glmnet) : there is no package called ‘glmnet’\n",
            "Calls: <Anonymous> -> <Anonymous> -> withVisible -> library\n"
          ],
          "name": "stdout"
        }
      ]
    },
    {
      "cell_type": "markdown",
      "metadata": {
        "id": "fSBiNJvCCYsZ"
      },
      "source": [
        "# Load in data"
      ]
    },
    {
      "cell_type": "code",
      "metadata": {
        "colab": {
          "base_uri": "https://localhost:8080/"
        },
        "id": "6Lp6E7AxSe-3",
        "outputId": "b5b88e4b-bacc-49dd-8e66-91989ba003a7"
      },
      "source": [
        "# Load in data from csv\n",
        "%%R\n",
        "\n",
        "master <- read.csv('/content/drive/MyDrive/Colab Notebooks/tavi_ppm/data/tavi_all.csv')\n",
        "str(master)"
      ],
      "execution_count": null,
      "outputs": [
        {
          "output_type": "stream",
          "text": [
            "'data.frame':\t304 obs. of  22 variables:\n",
            " $ age                 : int  79 85 84 80 85 83 78 71 70 88 ...\n",
            " $ sex                 : chr  \"F\" \"M\" \"F\" \"M\" ...\n",
            " $ proc.date           : chr  \"12.02.20\" \"11.02.20\" \"11.02.20\" \"11.02.20\" ...\n",
            " $ pre.pri             : chr  \"AF\" \"122\" \"AF\" \"160\" ...\n",
            " $ pre.af              : int  1 0 1 0 0 1 0 0 0 0 ...\n",
            " $ pre.qrsd            : int  94 90 104 100 94 132 84 118 86 91 ...\n",
            " $ pre.qrsm            : chr  \"normal\" \"incomplete LBBB\" \"incomplete LBBB\" \"normal\" ...\n",
            " $ intra.valve.type    : chr  \"Edwards S3\" \"Edwards S3\" \"Edwards S3\" \"CoreValve Evolut PRO\" ...\n",
            " $ intra.valve.size    : int  23 26 26 26 29 23 26 23 34 23 ...\n",
            " $ intra.anatomy       : chr  \"none\" \"none\" \"none\" \"none\" ...\n",
            " $ intra.avb.presence  : chr  \"N\" \"N\" \"N\" \"N\" ...\n",
            " $ intra.avb.type      : chr  \"/\" \"/\" \"/\" \"/\" ...\n",
            " $ post.monitoring.days: chr  \"4\" \"2\" \"2\" \"2\" ...\n",
            " $ post.avb.presence   : chr  \"N\" \"N\" \"N\" \"N\" ...\n",
            " $ post.avb.type       : chr  \"/\" \"/\" \"/\" \"/\" ...\n",
            " $ post.pri            : chr  \"AF\" \"144\" \"AF\" \"180\" ...\n",
            " $ post.qrsd           : chr  \"114\" \"84\" \"98\" \"152\" ...\n",
            " $ post.qrsm           : chr  \"normal\" \"incomplete LBBB\" \"incomplete LBBB (pre-existing)\" \"LBBB\" ...\n",
            " $ post.tpw            : chr  \"N\" \"N\" \"N\" \"N\" ...\n",
            " $ ppm                 : int  0 0 0 0 0 0 0 0 0 0 ...\n",
            " $ ppm.interval        : num  NA NA NA NA NA NA NA NA NA NA ...\n",
            " $ outcome.6m          : chr  \"F + W (no follow-ups)\" \"F + W (no follow-ups)\" \"F + W (no follow-ups)\" \"F + W (no follow-ups)\" ...\n"
          ],
          "name": "stdout"
        }
      ]
    },
    {
      "cell_type": "code",
      "metadata": {
        "id": "S_LOoPraVImA",
        "colab": {
          "base_uri": "https://localhost:8080/"
        },
        "outputId": "d60f1e78-89b8-4470-fa20-3df7c66f3390"
      },
      "source": [
        "# Read in data from gsheet\n",
        "%%R\n",
        "\n",
        "master <- read_sheet('https://docs.google.com/spreadsheets/d/1tBVpu7LHj2RcsqJljRAqvSouM55mSlfGDsvpsXtnfLI/edit?usp=sharing')"
      ],
      "execution_count": 9,
      "outputs": [
        {
          "output_type": "stream",
          "text": [
            "R[write to console]: Error in read_sheet(\"https://docs.google.com/spreadsheets/d/1tBVpu7LHj2RcsqJljRAqvSouM55mSlfGDsvpsXtnfLI/edit?usp=sharing\") : \n",
            "  could not find function \"read_sheet\"\n",
            "Calls: <Anonymous> -> <Anonymous> -> withVisible\n",
            "\n"
          ],
          "name": "stderr"
        },
        {
          "output_type": "stream",
          "text": [
            "\n",
            "Error in read_sheet(\"https://docs.google.com/spreadsheets/d/1tBVpu7LHj2RcsqJljRAqvSouM55mSlfGDsvpsXtnfLI/edit?usp=sharing\") : \n",
            "  could not find function \"read_sheet\"\n",
            "Calls: <Anonymous> -> <Anonymous> -> withVisible\n"
          ],
          "name": "stdout"
        }
      ]
    },
    {
      "cell_type": "code",
      "metadata": {
        "id": "CwAD2ot9bZP9"
      },
      "source": [
        "# Inspect gsheet\n",
        "%%R\n",
        "\n",
        "str(master)"
      ],
      "execution_count": null,
      "outputs": []
    },
    {
      "cell_type": "markdown",
      "metadata": {
        "id": "cPMJg4X4Fcqf"
      },
      "source": [
        "# Inspect data for correlations"
      ]
    },
    {
      "cell_type": "code",
      "metadata": {
        "id": "rhLrTDoDFhAs",
        "colab": {
          "base_uri": "https://localhost:8080/",
          "height": 497
        },
        "outputId": "a99729a0-6598-4aa6-9fb5-c68c26b96179"
      },
      "source": [
        "# ggpairs is good for this\n",
        "# https://www.linkedin.com/learning/r-essential-training-part-2-modeling-data/predicting-outcomes-with-quantile-regression?u=2963594\n",
        "\n",
        "%%R\n",
        "\n",
        "df <- master[ , c(\"age\", \"pre.af\", \"pre.qrsd\", \"ppm\")]\n",
        "df %>% ggpairs()"
      ],
      "execution_count": null,
      "outputs": [
        {
          "output_type": "display_data",
          "data": {
            "image/png": "[encoded data removed]"
          },
          "metadata": {
            "tags": []
          }
        }
      ]
    },
    {
      "cell_type": "markdown",
      "metadata": {
        "id": "DnqL4b60Cpod"
      },
      "source": [
        "# Make a non penalised LR model using glm"
      ]
    },
    {
      "cell_type": "code",
      "metadata": {
        "colab": {
          "base_uri": "https://localhost:8080/"
        },
        "id": "wpvp6MkFW51u",
        "outputId": "ee826ba2-a4fe-4bbe-b8ee-e07c9b270b40"
      },
      "source": [
        "# Make a non penalised LR model with all variables\n",
        "\n",
        "%%R\n",
        "model_data <- df\n",
        "LR1 <- glm(data = model_data, ppm~., family = 'binomial')\n",
        "summary(LR1)"
      ],
      "execution_count": null,
      "outputs": [
        {
          "output_type": "stream",
          "text": [
            "\n",
            "Call:\n",
            "glm(formula = ppm ~ ., family = \"binomial\", data = model_data)\n",
            "\n",
            "Deviance Residuals: \n",
            "    Min       1Q   Median       3Q      Max  \n",
            "-0.9355  -0.4711  -0.4053  -0.3505   2.4894  \n",
            "\n",
            "Coefficients:\n",
            "             Estimate Std. Error z value Pr(>|z|)   \n",
            "(Intercept) -5.362460   2.316521  -2.315  0.02062 * \n",
            "age          0.007379   0.026987   0.273  0.78453   \n",
            "pre.af      -0.016261   0.460191  -0.035  0.97181   \n",
            "pre.qrsd     0.022797   0.007961   2.864  0.00419 **\n",
            "---\n",
            "Signif. codes:  0 ‘***’ 0.001 ‘**’ 0.01 ‘*’ 0.05 ‘.’ 0.1 ‘ ’ 1\n",
            "\n",
            "(Dispersion parameter for binomial family taken to be 1)\n",
            "\n",
            "    Null deviance: 200.27  on 303  degrees of freedom\n",
            "Residual deviance: 192.07  on 300  degrees of freedom\n",
            "AIC: 200.07\n",
            "\n",
            "Number of Fisher Scoring iterations: 5\n",
            "\n"
          ],
          "name": "stdout"
        }
      ]
    },
    {
      "cell_type": "code",
      "metadata": {
        "colab": {
          "base_uri": "https://localhost:8080/"
        },
        "id": "oJcwO9SAX1lN",
        "outputId": "c83785fa-b0cb-4a3c-dc7b-0d6998fbc25b"
      },
      "source": [
        "# Make a results table for LR1\n",
        "%%R\n",
        "\n",
        "LR1res <- tidy(LR1)\n",
        "LR1res <- LR1res %>% mutate(OR = exp(estimate))\n",
        "LR1res <- LR1res %>% mutate(UCI = OR + 1.96*(exp(std.error)))\n",
        "LR1res <- LR1res %>% mutate(LCI = OR - 1.96*(exp(std.error)))\n",
        "LR1res\n",
        "\n",
        "# NB The 95% CI would be exp(OR +/- (1.96 * SE))\n",
        "# If 95% CI crosses 1 then the OR is not significant"
      ],
      "execution_count": null,
      "outputs": [
        {
          "output_type": "stream",
          "text": [
            "# A tibble: 4 x 8\n",
            "  term        estimate std.error statistic p.value      OR   UCI     LCI\n",
            "  <chr>          <dbl>     <dbl>     <dbl>   <dbl>   <dbl> <dbl>   <dbl>\n",
            "1 (Intercept) -5.36      2.32      -2.31   0.0206  0.00469 19.9  -19.9  \n",
            "2 age          0.00738   0.0270     0.273  0.785   1.01     3.02  -1.01 \n",
            "3 pre.af      -0.0163    0.460     -0.0353 0.972   0.984    4.09  -2.12 \n",
            "4 pre.qrsd     0.0228    0.00796    2.86   0.00419 1.02     3.00  -0.953\n"
          ],
          "name": "stdout"
        }
      ]
    },
    {
      "cell_type": "code",
      "metadata": {
        "colab": {
          "base_uri": "https://localhost:8080/",
          "height": 497
        },
        "id": "ma39qXWReqAO",
        "outputId": "54f141fb-e8af-4bd9-b596-250189122224"
      },
      "source": [
        "# Odds Ratio Plot for LR1\n",
        "\n",
        "%%R\n",
        "\n",
        "LR1res %>% ggplot() +\n",
        "geom_point(aes(x = OR, y = term),\n",
        "           size = 3) +\n",
        "geom_errorbarh(aes(y = term, xmin = LCI, xmax = UCI),\n",
        "               size = .5,\n",
        "               height = 1,\n",
        "               color = \"gray50\") +\n",
        "coord_cartesian(xlim = c(-3, 5)) +\n",
        "geom_vline(aes(xintercept = 1), size = .25, linetype = \"dashed\") +\n",
        "theme_classic()"
      ],
      "execution_count": null,
      "outputs": [
        {
          "output_type": "display_data",
          "data": {
            "image/png": "[encoded data removed]"
          },
          "metadata": {
            "tags": []
          }
        }
      ]
    },
    {
      "cell_type": "markdown",
      "metadata": {
        "id": "r7RlJJcV_Uyq"
      },
      "source": [
        "# LASSO Regression"
      ]
    },
    {
      "cell_type": "code",
      "metadata": {
        "id": "NRqeKMak-_eg"
      },
      "source": [
        "# LASSO regression\n",
        "# Works best if values are similar therefore scale to mean 0 SD 1 using scale() - makes a Z score\n",
        "# https://www.linkedin.com/learning/r-essential-training-part-2-modeling-data/predicting-outcomes-with-lasso-regression?u=2963594\n",
        "\n",
        "%%R\n",
        "\n",
        "model_data <- master\n",
        "model_data <- model_data %>% scale()\n",
        "\n",
        "# Lars likes input and outputs as different matrices\n",
        "y <- as.matrix(model_data[ , c(41)])\n",
        "X <- as.matrix(model_data[ , c(2:40)]) # Capital X becuase several variables"
      ],
      "execution_count": null,
      "outputs": []
    },
    {
      "cell_type": "code",
      "metadata": {
        "id": "ImgmzOpKBC3d"
      },
      "source": [
        "# Lasso regression\n",
        "%%R\n",
        "\n",
        "fit_lasso <- lars(X, y, type = \"lasso\")"
      ],
      "execution_count": null,
      "outputs": []
    },
    {
      "cell_type": "code",
      "metadata": {
        "colab": {
          "base_uri": "https://localhost:8080/",
          "height": 497
        },
        "id": "HjaIoJSzC-Y2",
        "outputId": "c452dc89-c911-4009-8304-a7cd693856cb"
      },
      "source": [
        "# Plot the results\n",
        "\n",
        "%%R\n",
        "\n",
        "fit_lasso %>% plot()\n",
        "legend(\n",
        "    \"bottomleft\",\n",
        "    lwd = 2,\n",
        "    col = (1:nrow(X)),\n",
        "    legend = colnames(X),\n",
        "    cex = .7\n",
        ")"
      ],
      "execution_count": null,
      "outputs": [
        {
          "output_type": "display_data",
          "data": {
            "image/png": "[encoded data removed]"
          },
          "metadata": {
            "tags": []
          }
        }
      ]
    },
    {
      "cell_type": "code",
      "metadata": {
        "colab": {
          "base_uri": "https://localhost:8080/",
          "height": 497
        },
        "id": "lIsVXrUSDePK",
        "outputId": "ef4c29b2-6c08-4293-92b4-ef81c0257f08"
      },
      "source": [
        "# View R squared\n",
        "%%R\n",
        "\n",
        "fit_lasso$R2\n",
        "fit_lasso$R2 %>% plot()"
      ],
      "execution_count": null,
      "outputs": [
        {
          "output_type": "display_data",
          "data": {
            "image/png": "[encoded data removed]"
          },
          "metadata": {
            "tags": []
          }
        }
      ]
    },
    {
      "cell_type": "code",
      "metadata": {
        "colab": {
          "base_uri": "https://localhost:8080/"
        },
        "id": "Ib5KytIKDudn",
        "outputId": "5296d792-20b6-4d35-a133-d87bcc27fd6b"
      },
      "source": [
        "# Get coefficients at each step\n",
        "%%R\n",
        "fit_lasso %>% coef()\n",
        "fit_lasso"
      ],
      "execution_count": null,
      "outputs": [
        {
          "output_type": "stream",
          "text": [
            "\n",
            "Call:\n",
            "lars(x = X, y = y, type = \"lasso\")\n",
            "R-squared: 0.026 \n",
            "Sequence of LASSO moves:\n",
            "     zero_valve one_valve TV AVTV CABG_only AV redo MV ARR age MAZE CABG\n",
            "Var          31       -32  4   24        19  2   18  3   6  30    8    5\n",
            "Step          1         1  2    3         4  5    6  7   8   9   10   11\n",
            "     myomectomy CABG_only IABP emerg mass ADiss LAA urgent ASD AVMVTV\n",
            "Var          17       -19   14    36   15    11   7     38  13     26\n",
            "Step         12        13   14    15   16    17  18     19  20     21\n",
            "     three_valve PTE TV_only elect AV_only VSD CABGAVMV emerg vad MIMVS CABGMV\n",
            "Var          -34  10      22    37      20  12       29   -36  16     9     28\n",
            "Step          21  22      23    24      25  26       27    28  29    30     31\n",
            "     AV nonelect AVMV CABGAV SEX ASDVSD zero_valve AV AVMV MV_only AVMV\n",
            "Var  -2       39   23     27   1     35        -31  2  -23      21   23\n",
            "Step 32       33   34     35  36     37         38 39   40      41   42\n",
            "     zero_valve CABG_only CABG TV MVTV CABG\n",
            "Var          31        19   -5 -4   25    5\n",
            "Step         43        44   45 46   47   48\n"
          ],
          "name": "stdout"
        }
      ]
    },
    {
      "cell_type": "code",
      "metadata": {
        "colab": {
          "base_uri": "https://localhost:8080/"
        },
        "id": "tcnh42-iEpt9",
        "outputId": "c4c479e1-78a4-4013-c168-06eb58b87448"
      },
      "source": [
        "%%R\n"
      ],
      "execution_count": null,
      "outputs": [
        {
          "output_type": "stream",
          "text": [
            "R[write to console]: Installing package into ‘/usr/local/lib/R/site-library’\n",
            "(as ‘lib’ is unspecified)\n",
            "\n",
            "R[write to console]: also installing the dependency ‘reshape’\n",
            "\n",
            "\n",
            "R[write to console]: trying URL 'https://cran.rstudio.com/src/contrib/reshape_0.8.8.tar.gz'\n",
            "\n",
            "R[write to console]: Content type 'application/x-gzip'\n",
            "R[write to console]:  length 42558 bytes (41 KB)\n",
            "\n",
            "R[write to console]: =\n",
            "R[write to console]: =\n",
            "R[write to console]: =\n",
            "R[write to console]: =\n",
            "R[write to console]: =\n",
            "R[write to console]: =\n",
            "R[write to console]: =\n",
            "R[write to console]: =\n",
            "R[write to console]: =\n",
            "R[write to console]: =\n",
            "R[write to console]: =\n",
            "R[write to console]: =\n",
            "R[write to console]: =\n",
            "R[write to console]: =\n",
            "R[write to console]: =\n",
            "R[write to console]: =\n",
            "R[write to console]: =\n",
            "R[write to console]: =\n",
            "R[write to console]: =\n",
            "R[write to console]: =\n",
            "R[write to console]: =\n",
            "R[write to console]: =\n",
            "R[write to console]: =\n",
            "R[write to console]: =\n",
            "R[write to console]: =\n",
            "R[write to console]: =\n",
            "R[write to console]: =\n",
            "R[write to console]: =\n",
            "R[write to console]: =\n",
            "R[write to console]: =\n",
            "R[write to console]: =\n",
            "R[write to console]: =\n",
            "R[write to console]: =\n",
            "R[write to console]: =\n",
            "R[write to console]: =\n",
            "R[write to console]: =\n",
            "R[write to console]: =\n",
            "R[write to console]: =\n",
            "R[write to console]: =\n",
            "R[write to console]: =\n",
            "R[write to console]: =\n",
            "R[write to console]: =\n",
            "R[write to console]: =\n",
            "R[write to console]: =\n",
            "R[write to console]: =\n",
            "R[write to console]: =\n",
            "R[write to console]: =\n",
            "R[write to console]: =\n",
            "R[write to console]: =\n",
            "R[write to console]: =\n",
            "R[write to console]: \n",
            "\n",
            "R[write to console]: downloaded 41 KB\n",
            "\n",
            "\n",
            "R[write to console]: trying URL 'https://cran.rstudio.com/src/contrib/GGally_2.1.0.tar.gz'\n",
            "\n",
            "R[write to console]: Content type 'application/x-gzip'\n",
            "R[write to console]:  length 1431883 bytes (1.4 MB)\n",
            "\n",
            "R[write to console]: =\n",
            "R[write to console]: =\n",
            "R[write to console]: =\n",
            "R[write to console]: =\n",
            "R[write to console]: =\n",
            "R[write to console]: =\n",
            "R[write to console]: =\n",
            "R[write to console]: =\n",
            "R[write to console]: =\n",
            "R[write to console]: =\n",
            "R[write to console]: =\n",
            "R[write to console]: =\n",
            "R[write to console]: =\n",
            "R[write to console]: =\n",
            "R[write to console]: =\n",
            "R[write to console]: =\n",
            "R[write to console]: =\n",
            "R[write to console]: =\n",
            "R[write to console]: =\n",
            "R[write to console]: =\n",
            "R[write to console]: =\n",
            "R[write to console]: =\n",
            "R[write to console]: =\n",
            "R[write to console]: =\n",
            "R[write to console]: =\n",
            "R[write to console]: =\n",
            "R[write to console]: =\n",
            "R[write to console]: =\n",
            "R[write to console]: =\n",
            "R[write to console]: =\n",
            "R[write to console]: =\n",
            "R[write to console]: =\n",
            "R[write to console]: =\n",
            "R[write to console]: =\n",
            "R[write to console]: =\n",
            "R[write to console]: =\n",
            "R[write to console]: =\n",
            "R[write to console]: =\n",
            "R[write to console]: =\n",
            "R[write to console]: =\n",
            "R[write to console]: =\n",
            "R[write to console]: =\n",
            "R[write to console]: =\n",
            "R[write to console]: =\n",
            "R[write to console]: =\n",
            "R[write to console]: =\n",
            "R[write to console]: =\n",
            "R[write to console]: =\n",
            "R[write to console]: =\n",
            "R[write to console]: =\n",
            "R[write to console]: \n",
            "\n",
            "R[write to console]: downloaded 1.4 MB\n",
            "\n",
            "\n",
            "R[write to console]: \n",
            "\n",
            "R[write to console]: \n",
            "R[write to console]: The downloaded source packages are in\n",
            "\t‘/tmp/Rtmp0cetS9/downloaded_packages’\n",
            "R[write to console]: \n",
            "R[write to console]: \n",
            "\n"
          ],
          "name": "stderr"
        }
      ]
    },
    {
      "cell_type": "markdown",
      "metadata": {
        "id": "cqD28Pb8BDU1"
      },
      "source": [
        "# Forward Stepwise"
      ]
    },
    {
      "cell_type": "code",
      "metadata": {
        "id": "oj6oHaBBTDzl",
        "colab": {
          "base_uri": "https://localhost:8080/"
        },
        "outputId": "57a7c35c-0276-4430-c9c3-7be6ca813550"
      },
      "source": [
        "# Refine Model\n",
        "# Strip it back to significant predictors\n",
        "\n",
        "%%R\n",
        "\n",
        "model_data <- read.csv('/content/drive/MyDrive/Colab Notebooks/surgery_ppm/data/md_all.csv')\n",
        "model_data <- model_data[ ,c(\"age\", \"MV\", \"MAZE\", \"redo\", \"myomectomy\", \"AVTV\", \"zero_valve\", \"elect\", \"urgent\",\"ppm\")]\n",
        "str(model_data)"
      ],
      "execution_count": null,
      "outputs": [
        {
          "output_type": "stream",
          "text": [
            "'data.frame':\t19627 obs. of  10 variables:\n",
            " $ age       : int  80 76 68 63 80 88 67 66 70 85 ...\n",
            " $ MV        : int  0 0 0 1 0 0 0 0 0 0 ...\n",
            " $ MAZE      : int  0 1 0 0 0 0 0 0 0 0 ...\n",
            " $ redo      : int  0 0 0 0 0 0 0 0 0 0 ...\n",
            " $ myomectomy: int  0 0 0 0 0 0 0 0 0 0 ...\n",
            " $ AVTV      : int  0 0 0 0 0 0 0 0 0 0 ...\n",
            " $ zero_valve: int  0 1 1 0 0 0 1 1 0 0 ...\n",
            " $ elect     : int  0 0 0 0 0 0 0 0 0 0 ...\n",
            " $ urgent    : int  0 1 1 1 1 0 0 1 1 1 ...\n",
            " $ ppm       : int  0 0 0 0 1 0 0 0 0 0 ...\n"
          ],
          "name": "stdout"
        }
      ]
    },
    {
      "cell_type": "code",
      "metadata": {
        "colab": {
          "base_uri": "https://localhost:8080/"
        },
        "id": "ya8VYuPB7IG1",
        "outputId": "c6789218-1d0e-4072-a7f3-57d7346aeb8b"
      },
      "source": [
        "# Make a model (LR2) using only significant variables\n",
        "\n",
        "%%R\n",
        "\n",
        "LR2 <- glm(data = model_data, ppm~., family = 'binomial')\n",
        "summary(LR2)"
      ],
      "execution_count": null,
      "outputs": [
        {
          "output_type": "stream",
          "text": [
            "\n",
            "Call:\n",
            "glm(formula = ppm ~ ., family = \"binomial\", data = model_data)\n",
            "\n",
            "Deviance Residuals: \n",
            "    Min       1Q   Median       3Q      Max  \n",
            "-1.1231  -0.3077  -0.2101  -0.1766   3.0657  \n",
            "\n",
            "Coefficients:\n",
            "             Estimate Std. Error z value Pr(>|z|)    \n",
            "(Intercept) -3.816244   0.275573 -13.848  < 2e-16 ***\n",
            "age          0.012537   0.003562   3.519 0.000433 ***\n",
            "MV           0.308331   0.093419   3.301 0.000965 ***\n",
            "MAZE         0.569717   0.211077   2.699 0.006953 ** \n",
            "redo         0.727270   0.137282   5.298 1.17e-07 ***\n",
            "myomectomy   0.965898   0.483089   1.999 0.045563 *  \n",
            "AVTV         3.357171   0.570117   5.889 3.90e-09 ***\n",
            "zero_valve  -1.026658   0.094879 -10.821  < 2e-16 ***\n",
            "elect       -0.300909   0.134147  -2.243 0.024888 *  \n",
            "urgent      -0.223152   0.088043  -2.535 0.011258 *  \n",
            "---\n",
            "Signif. codes:  0 ‘***’ 0.001 ‘**’ 0.01 ‘*’ 0.05 ‘.’ 0.1 ‘ ’ 1\n",
            "\n",
            "(Dispersion parameter for binomial family taken to be 1)\n",
            "\n",
            "    Null deviance: 5829.2  on 19626  degrees of freedom\n",
            "Residual deviance: 5554.5  on 19617  degrees of freedom\n",
            "AIC: 5574.5\n",
            "\n",
            "Number of Fisher Scoring iterations: 6\n",
            "\n"
          ],
          "name": "stdout"
        }
      ]
    },
    {
      "cell_type": "code",
      "metadata": {
        "colab": {
          "base_uri": "https://localhost:8080/"
        },
        "id": "ry4WSIOg8CWk",
        "outputId": "6c55e4bb-f66d-4d45-9dba-92b5b48bc793"
      },
      "source": [
        "# Make a results table for LR2\n",
        "%%R\n",
        "\n",
        "LR2res <- tidy(LR2)\n",
        "LR2res <- LR2res %>% mutate(OR = exp(estimate))\n",
        "LR2res <- LR2res %>% mutate(UCI = OR + 1.96*(exp(std.error)))\n",
        "LR2res <- LR2res %>% mutate(LCI = OR - 1.96*(exp(std.error)))\n",
        "LR2res"
      ],
      "execution_count": null,
      "outputs": [
        {
          "output_type": "stream",
          "text": [
            "# A tibble: 10 x 8\n",
            "   term        estimate std.error statistic  p.value      OR   UCI    LCI\n",
            "   <chr>          <dbl>     <dbl>     <dbl>    <dbl>   <dbl> <dbl>  <dbl>\n",
            " 1 (Intercept)  -3.82     0.276      -13.8  1.30e-43  0.0220  2.60 -2.56 \n",
            " 2 age           0.0125   0.00356      3.52 4.33e- 4  1.01    2.98 -0.954\n",
            " 3 MV            0.308    0.0934       3.30 9.65e- 4  1.36    3.51 -0.791\n",
            " 4 MAZE          0.570    0.211        2.70 6.95e- 3  1.77    4.19 -0.653\n",
            " 5 redo          0.727    0.137        5.30 1.17e- 7  2.07    4.32 -0.179\n",
            " 6 myomectomy    0.966    0.483        2.00 4.56e- 2  2.63    5.80 -0.550\n",
            " 7 AVTV          3.36     0.570        5.89 3.90e- 9 28.7    32.2  25.2  \n",
            " 8 zero_valve   -1.03     0.0949     -10.8  2.74e-27  0.358   2.51 -1.80 \n",
            " 9 elect        -0.301    0.134       -2.24 2.49e- 2  0.740   2.98 -1.50 \n",
            "10 urgent       -0.223    0.0880      -2.53 1.13e- 2  0.800   2.94 -1.34 \n"
          ],
          "name": "stdout"
        }
      ]
    },
    {
      "cell_type": "code",
      "metadata": {
        "colab": {
          "base_uri": "https://localhost:8080/",
          "height": 497
        },
        "id": "PwrQa5xJ839U",
        "outputId": "07866687-d5a4-43a7-9336-967cbc41d3d8"
      },
      "source": [
        "# Odds Ratio Plot for LR1\n",
        "\n",
        "%%R\n",
        "\n",
        "LR2res %>% ggplot() +\n",
        "geom_point(aes(x = OR, y = term),\n",
        "           size = 3) +\n",
        "geom_errorbarh(aes(y = term, xmin = LCI, xmax = UCI),\n",
        "               size = .5,\n",
        "               height = 1,\n",
        "               color = \"gray50\") +\n",
        "coord_cartesian(xlim = c(-30, 50)) +\n",
        "geom_vline(aes(xintercept = 1), size = .25, linetype = \"dashed\") +\n",
        "theme_classic()"
      ],
      "execution_count": null,
      "outputs": [
        {
          "output_type": "display_data",
          "data": {
            "image/png": "[encoded data removed]"
          },
          "metadata": {
            "tags": []
          }
        }
      ]
    },
    {
      "cell_type": "code",
      "metadata": {
        "id": "mhviLK7HTm0F"
      },
      "source": [
        "#Split into Test and Train sets\n",
        "\n",
        "%%R\n",
        "\n",
        "set.seed(123)\n",
        "trainIndex <- createDataPartition(model_data$ppm, p = .6, \n",
        "                                  list = FALSE, \n",
        "                                  times = 1)\n",
        "train_set <- model_data[ trainIndex,]\n",
        "test_set  <- model_data[-trainIndex,]"
      ],
      "execution_count": null,
      "outputs": []
    },
    {
      "cell_type": "code",
      "metadata": {
        "id": "jsjeUClvUa1U"
      },
      "source": [
        "# Make Matrices for GLMNET\n",
        "\n",
        "%%R\n",
        "\n",
        "# Dummy code categorical predictor variables\n",
        "x <- model.matrix(ppm~., train_set)[,-1]\n",
        "\n",
        "# Convert the outcome (class) to a numerical variable\n",
        "y <- as.numeric(train_set$ppm)-1"
      ],
      "execution_count": null,
      "outputs": []
    },
    {
      "cell_type": "code",
      "metadata": {
        "colab": {
          "base_uri": "https://localhost:8080/",
          "height": 497
        },
        "id": "2oX57871VKJw",
        "outputId": "3d901189-8ea0-472f-8c46-015d331433e1"
      },
      "source": [
        "# Plot make and plot LASSO\n",
        "%%R\n",
        "\n",
        "set.seed(123)\n",
        "cv.lasso <- cv.glmnet(x, y, alpha = 1, family = \"binomial\")\n",
        "plot(cv.lasso)"
      ],
      "execution_count": null,
      "outputs": [
        {
          "output_type": "display_data",
          "data": {
            "image/png": "[encoded data removed]"
          },
          "metadata": {
            "tags": []
          }
        }
      ]
    },
    {
      "cell_type": "code",
      "metadata": {
        "colab": {
          "base_uri": "https://localhost:8080/"
        },
        "id": "ILgneAt2W0Mf",
        "outputId": "5bf62846-e933-4a07-c558-787b78e60d23"
      },
      "source": [
        "# Coefficients of LASSO model\n",
        "\n",
        "%%R\n",
        "\n",
        "cv.lasso$lambda.min\n",
        "coef(cv.lasso, cv.lasso$lambda.min)\n",
        "\n",
        "cv.lasso$lambda.1se\n",
        "coef(cv.lasso, cv.lasso$lambda.1se)"
      ],
      "execution_count": null,
      "outputs": [
        {
          "output_type": "stream",
          "text": [
            "9 x 1 sparse Matrix of class \"dgCMatrix\"\n",
            "                      1\n",
            "(Intercept) -3.40189292\n",
            "SEX          .         \n",
            "AV           0.05296202\n",
            "MV           .         \n",
            "TV           0.44201418\n",
            "CABG         .         \n",
            "redo         .         \n",
            "CABG_only   -0.04876568\n",
            "two_valve    .         \n"
          ],
          "name": "stdout"
        }
      ]
    },
    {
      "cell_type": "code",
      "metadata": {
        "id": "FRSLgku-YSo8"
      },
      "source": [
        "# Model with lambda.min\n",
        "\n",
        "%%R\n",
        "\n",
        "lasso.model <- glmnet(x, y, alpha = 1, family = \"binomial\",\n",
        "                      lambda = cv.lasso$lambda.min)"
      ],
      "execution_count": null,
      "outputs": []
    },
    {
      "cell_type": "code",
      "metadata": {
        "id": "PyP2y23oYjFL"
      },
      "source": [
        "# Make predictions using test data\n",
        "\n",
        "%%R\n",
        "\n",
        "# Make prediction on test data\n",
        "x.test <- model.matrix(ppm ~., test_set)[,-1]\n",
        "probabilities <- lasso.model %>% predict(newx = x.test)\n",
        "predicted.classes <- ifelse(probabilities > 0.5, \"pos\", \"neg\")"
      ],
      "execution_count": null,
      "outputs": []
    },
    {
      "cell_type": "code",
      "metadata": {
        "colab": {
          "base_uri": "https://localhost:8080/"
        },
        "id": "QRtO5SIBYuAQ",
        "outputId": "dee21157-ab68-46b3-b84e-f6a00337a991"
      },
      "source": [
        "# Model accuracy\n",
        "\n",
        "%%R\n",
        "\n",
        "observed.classes <- test_set$ppm\n",
        "mean(predicted.classes == observed.classes)"
      ],
      "execution_count": null,
      "outputs": [
        {
          "output_type": "stream",
          "text": [
            "[1] 0\n"
          ],
          "name": "stdout"
        }
      ]
    },
    {
      "cell_type": "code",
      "metadata": {
        "colab": {
          "base_uri": "https://localhost:8080/"
        },
        "id": "NrBoBzysYyQB",
        "outputId": "6520ebf1-be7b-497d-9029-7404b2c5edca"
      },
      "source": [
        "#Test Lasso Model\n",
        "\n",
        "%%R\n",
        "\n",
        "\n",
        "x.test <- model.matrix(ppm ~., test_set)[,-1]\n",
        "pred <- lasso.model %>% predict(newx = x.test)\n",
        "pred_y <- as.numeric(pred>0)\n",
        "true_y <- as.numeric(test_set$ppm == 1)\n",
        "true_pos <- (true_y==1) & (pred_y==1)\n",
        "true_neg <- (true_y==0) & (pred_y==0)\n",
        "false_pos <- (true_y==0) & (pred_y==1)\n",
        "false_neg <- (true_y==1) & (pred_y==0)\n",
        "conf_mat <- matrix(c(sum(true_pos), sum(false_pos),\n",
        "                     sum(false_neg), sum(true_neg)), 2, 2)\n",
        "colnames(conf_mat) <- c('Yhat = 1', 'Yhat = 0')\n",
        "rownames(conf_mat) <- c('Y = 1', 'Y = 0')\n",
        "conf_mat\n",
        "\n",
        "#Sensitivity - how good is the model at predicting a positive outocme (i.e. PPM needed). (the proportion of 1s it correctly identifies)\n",
        "conf_mat[1, 1] / sum(conf_mat[1, ])\n",
        "#Specificity - how good is the model at predicting a negative outocme (i.e. PPM not needed) (the proportion of 0s it correctly identifies)\n",
        "conf_mat[2, 2] / sum(conf_mat[2, ])\n",
        "\n",
        "\n",
        "idx <- order(-pred)\n",
        "sensitivity <- cumsum(true_y[idx] == 1) / sum(true_y == 1)\n",
        "specificity <- (sum(true_y == 0) - cumsum(true_y[idx] == 0)) / sum(true_y == 0)\n",
        "roc_df <- data.frame(sensitivity = sensitivity, specificity = specificity)\n",
        "ggplot(roc_df, aes(x=specificity, y = sensitivity)) +\n",
        "  geom_line(color = 'blue') +\n",
        "  scale_x_reverse(expand=c(0,0)) +\n",
        "  scale_y_continuous(expand = c(0,0)) +\n",
        "  geom_line(data = data.frame(x=(0:100) / 100), aes(x=x, y=1-x),\n",
        "            linetype = 'dotted', color = 'red')\n",
        "\n",
        "#Calculate the AUC\n",
        "sum(roc_df$sensitivity[-1] * diff(1 - roc_df$specificity))"
      ],
      "execution_count": null,
      "outputs": [
        {
          "output_type": "stream",
          "text": [
            "[1] 0.6604128\n"
          ],
          "name": "stdout"
        }
      ]
    },
    {
      "cell_type": "code",
      "metadata": {
        "colab": {
          "base_uri": "https://localhost:8080/",
          "height": 531
        },
        "id": "2dBhkxijY6rf",
        "outputId": "6597a191-5546-41f9-bbcf-450679ab90ca"
      },
      "source": [
        "#Make Reliability Chart\n",
        "\n",
        "%%R\n",
        "\n",
        "x2 <- model.matrix(ppm~., test_set)[,-1]\n",
        "y2 <- as.numeric(test_set$ppm)-1\n",
        "probs <- lasso.model %>% predict(newx = x2, type = \"response\")\n",
        "calib_data <- cbind(y2, probs)\n",
        "calib_data <- as_tibble(calib_data)\n",
        "calib_data <- calib_data %>% rename(ppm = y2, prob = s0)\n",
        "calib_data <- calib_data %>% arrange(desc(prob))\n",
        "\n",
        "calib_data$exp_prob <- 0\n",
        "for (i in 1:nrow(calib_data)){\n",
        "  if(calib_data$prob[i] < 0.1)\n",
        "    calib_data$exp_prob[i] <- \"0-9%\"\n",
        "}\n",
        "for (i in 1:nrow(calib_data)){\n",
        "  if(calib_data$prob[i] >= 0.1 & calib_data$prob[i] < 0.2)\n",
        "    calib_data$exp_prob[i] <- \"10-19%\"\n",
        "}\n",
        "for (i in 1:nrow(calib_data)){\n",
        "  if(calib_data$prob[i] >= 0.2 & calib_data$prob[i] < 0.3)\n",
        "    calib_data$exp_prob[i] <- \"20-29%\"\n",
        "}\n",
        "for (i in 1:nrow(calib_data)){\n",
        "  if(calib_data$prob[i] >= 0.3 & calib_data$prob[i] < 0.4)\n",
        "    calib_data$exp_prob[i] <- \"30-39%\"\n",
        "}\n",
        "\n",
        "calib_data <- calib_data %>% group_by(exp_prob) %>% summarise(obs_prob = mean(prob))\n",
        "\n",
        "calib_data %>%\n",
        "  ggplot() +\n",
        "  geom_point(aes(x = exp_prob, y = obs_prob))"
      ],
      "execution_count": null,
      "outputs": [
        {
          "output_type": "stream",
          "text": [
            "R[write to console]: `summarise()` ungrouping output (override with `.groups` argument)\n",
            "\n"
          ],
          "name": "stderr"
        },
        {
          "output_type": "display_data",
          "data": {
            "image/png": "[encoded data removed]"
          },
          "metadata": {
            "tags": []
          }
        }
      ]
    },
    {
      "cell_type": "code",
      "metadata": {
        "colab": {
          "base_uri": "https://localhost:8080/"
        },
        "id": "C7AXvYezY_rP",
        "outputId": "5503c8cb-3a30-420f-eccb-2927a6f15dd0"
      },
      "source": [
        "# Spiegalhalter Z\n",
        "\n",
        "%%R\n",
        "\n",
        "Spiegelhalter_z = function(y, prob){\n",
        "  alpha = 0.05\n",
        "  z_score = sum((y-prob)*(1-2*prob))/sqrt(sum(((1-2*prob)^2)*prob*(1-prob)))\n",
        "  print(z_score)\n",
        "  if (abs(z_score) > qnorm(1-alpha/2)){\n",
        "    print('reject null. NOT calibrated')\n",
        "  } else{\n",
        "    print('fail to reject. calibrated')\n",
        "  }\n",
        "  cat('z score: ', z_score, '\\n')\n",
        "  cat('p value: ', 1-pnorm(abs(z_score)), '\\n')\n",
        "  return(z_score)\n",
        "}\n",
        "\n",
        "probs <- as.vector(probs)\n",
        "Spiegelhalter_z(y = y2, prob = probs)"
      ],
      "execution_count": null,
      "outputs": [
        {
          "output_type": "stream",
          "text": [
            "[1] -521.3591\n",
            "[1] \"reject null. NOT calibrated\"\n",
            "z score:  -521.3591 \n",
            "p value:  0 \n",
            "[1] -521.3591\n"
          ],
          "name": "stdout"
        }
      ]
    },
    {
      "cell_type": "code",
      "metadata": {
        "id": "bmMrByM8ZJJh"
      },
      "source": [
        ""
      ],
      "execution_count": null,
      "outputs": []
    }
  ]
}