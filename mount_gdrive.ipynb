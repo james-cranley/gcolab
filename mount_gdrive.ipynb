{
  "nbformat": 4,
  "nbformat_minor": 0,
  "metadata": {
    "colab": {
      "name": "mount_gdrive.ipynb",
      "provenance": [],
      "authorship_tag": "ABX9TyMERDfcsecClvh4PBO4rAZG",
      "include_colab_link": true
    },
    "kernelspec": {
      "name": "python3",
      "display_name": "Python 3"
    }
  },
  "cells": [
    {
      "cell_type": "markdown",
      "metadata": {
        "id": "view-in-github",
        "colab_type": "text"
      },
      "source": [
        "<a href=\"https://colab.research.google.com/github/james-cranley/gcolab/blob/main/mount_gdrive.ipynb\" target=\"_parent\"><img src=\"https://colab.research.google.com/assets/colab-badge.svg\" alt=\"Open In Colab\"/></a>"
      ]
    },
    {
      "cell_type": "markdown",
      "metadata": {
        "id": "nlP-BK9Gmkae"
      },
      "source": [
        "# Mount my gdrive\n",
        "Need to copy/paste the code in the URL"
      ]
    },
    {
      "cell_type": "code",
      "metadata": {
        "id": "jzlgGBGcmiTm",
        "colab": {
          "base_uri": "https://localhost:8080/"
        },
        "outputId": "dd01d85d-1df6-4eea-fdab-26ad074a9ab7"
      },
      "source": [
        "from google.colab import drive\n",
        "drive.mount('/content/gdrive')"
      ],
      "execution_count": null,
      "outputs": [
        {
          "output_type": "stream",
          "text": [
            "Drive already mounted at /content/gdrive; to attempt to forcibly remount, call drive.mount(\"/content/gdrive\", force_remount=True).\n"
          ],
          "name": "stdout"
        }
      ]
    },
    {
      "cell_type": "markdown",
      "metadata": {
        "id": "8nBedmmHF_Nu"
      },
      "source": [
        "# Change WD"
      ]
    },
    {
      "cell_type": "code",
      "metadata": {
        "colab": {
          "base_uri": "https://localhost:8080/"
        },
        "id": "Al85C3XhGDiZ",
        "outputId": "cad7218c-896f-4729-93e5-04a1a44735f2"
      },
      "source": [
        "%cd /content/gdrive/MyDrive/Colab"
      ],
      "execution_count": null,
      "outputs": [
        {
          "output_type": "stream",
          "text": [
            "/content/gdrive/MyDrive/Colab\n"
          ],
          "name": "stdout"
        }
      ]
    }
  ]
}